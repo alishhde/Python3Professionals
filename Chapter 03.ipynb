{
 "cells": [
  {
   "cell_type": "markdown",
   "metadata": {},
   "source": [
    "# Chapter 3: Indentation\n",
    "\n"
   ]
  },
  {
   "cell_type": "markdown",
   "metadata": {},
   "source": [
    "# Section 3.1: Simple example\n",
    "For Python, Guido van Rossum based the grouping of statements on indentation. The reasons for this are explained\n",
    "in the first section of the \"Design and History Python FAQ\". Colons, : , are used to declare an indented code block,\n",
    "such as the following example:"
   ]
  },
  {
   "cell_type": "code",
   "execution_count": 2,
   "metadata": {},
   "outputs": [
    {
     "data": {
      "text/plain": [
       "True"
      ]
     },
     "execution_count": 2,
     "metadata": {},
     "output_type": "execute_result"
    }
   ],
   "source": [
    "class ExampleClass:\n",
    "#Every function belonging to a class must be indented equally\n",
    "    def __init__(self):\n",
    "        name = \"example\"\n",
    "    \n",
    "    def someFunction(self, a):\n",
    "    #Notice everything belonging to a function must be indented\n",
    "        if a > 5:\n",
    "            return True\n",
    "        else:\n",
    "            return False\n",
    "\n",
    "#If a function is not indented to the same level it will not be considers as part of the parent class\n",
    "def separateFunction(b):\n",
    "    for i in b:\n",
    "    #Loops are also indented and nested conditions start a new indentation\n",
    "        if i == 1:\n",
    "            return True\n",
    "    return False\n",
    "\n",
    "separateFunction([2,3,5,6,1])"
   ]
  },
  {
   "cell_type": "markdown",
   "metadata": {},
   "source": [
    "# Section 3.2: How Indentation is Parsed\n",
    "Whitespace is handled by the lexical analyzer before being parsed.\n",
    "..."
   ]
  },
  {
   "cell_type": "markdown",
   "metadata": {},
   "source": [
    "# Section 3.3: Indentation Errors\n",
    "The spacing should be even and uniform throughout. Improper indentation can cause an IndentationError or\n",
    "cause the program to do something unexpected."
   ]
  },
  {
   "cell_type": "markdown",
   "metadata": {},
   "source": [
    "# End of chapter 3"
   ]
  }
 ],
 "metadata": {
  "kernelspec": {
   "display_name": "Python 3",
   "language": "python",
   "name": "python3"
  },
  "language_info": {
   "codemirror_mode": {
    "name": "ipython",
    "version": 3
   },
   "file_extension": ".py",
   "mimetype": "text/x-python",
   "name": "python",
   "nbconvert_exporter": "python",
   "pygments_lexer": "ipython3",
   "version": "3.8.5"
  }
 },
 "nbformat": 4,
 "nbformat_minor": 4
}
