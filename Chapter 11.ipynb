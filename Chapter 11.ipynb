{
 "cells": [
  {
   "cell_type": "markdown",
   "metadata": {},
   "source": [
    "# Chapter 11: Boolean Operators"
   ]
  },
  {
   "cell_type": "markdown",
   "metadata": {},
   "source": [
    "# Section 11.1: `and` and `or` are not guaranteed to return a boolean"
   ]
  },
  {
   "cell_type": "markdown",
   "metadata": {},
   "source": [
    "When you use or , it will either return the first value in the expression if it's true, else it will blindly return the second\n",
    "value. I.e. or is equivalent to:"
   ]
  },
  {
   "cell_type": "code",
   "execution_count": 3,
   "metadata": {},
   "outputs": [],
   "source": [
    "def or_(a, b):\n",
    "    if a:\n",
    "        return a\n",
    "    else:\n",
    "        return b"
   ]
  },
  {
   "cell_type": "markdown",
   "metadata": {},
   "source": [
    "For __and__ , it will return its first value if it's false, else it returns the last value:"
   ]
  },
  {
   "cell_type": "code",
   "execution_count": 9,
   "metadata": {},
   "outputs": [],
   "source": [
    "def and_(a, b):\n",
    "    if not a:\n",
    "        return a\n",
    "    else:\n",
    "        return b"
   ]
  },
  {
   "cell_type": "markdown",
   "metadata": {},
   "source": [
    "# Section 11.2: A simple example\n",
    "In Python you can compare a single element using two binary operators--one on either side:"
   ]
  },
  {
   "cell_type": "code",
   "execution_count": 8,
   "metadata": {},
   "outputs": [
    {
     "name": "stdout",
     "output_type": "stream",
     "text": [
      "x is near pi\n"
     ]
    }
   ],
   "source": [
    "x = 3.14111\n",
    "if 3.14 < x < 3.142:\n",
    "    print(\"x is near pi\")"
   ]
  },
  {
   "cell_type": "markdown",
   "metadata": {},
   "source": [
    "In many (most?) programming languages, this would be evaluated in a way contrary to regular math: (3.14 < x) <\n",
    "3.142 , but in Python it is treated like 3.14 < x and x < 3.142 , just like most non-programmers would expect."
   ]
  },
  {
   "cell_type": "markdown",
   "metadata": {},
   "source": [
    "# Section 11.3: Short-circuit evaluation\n",
    "Python minimally evaluates Boolean expressions."
   ]
  },
  {
   "cell_type": "raw",
   "metadata": {},
   "source": [
    "... https://en.wikipedia.org/wiki/Short-circuit_evaluation"
   ]
  },
  {
   "cell_type": "markdown",
   "metadata": {},
   "source": [
    "# Section 11.4: and\n",
    "Evaluates to the second argument if and only if both of the arguments are truthy. Otherwise evaluates to the first\n",
    "falsey argument."
   ]
  },
  {
   "cell_type": "markdown",
   "metadata": {},
   "source": [
    "x = True\n",
    "y = True\n",
    "z = x and y # z = True\n",
    "print(z)\n",
    "\n",
    "x = True\n",
    "y = False\n",
    "z = x and y # z = False\n",
    "print(z)\n",
    "\n",
    "x = False\n",
    "y = True\n",
    "z = x and y # z = False\n",
    "print(z)\n",
    "\n",
    "x = False\n",
    "y = False\n",
    "z = x and y # z = False\n",
    "print(z)\n",
    "\n",
    "x = 1\n",
    "y = 1\n",
    "z = x and y # z = y, so z = 1, see `and` and `or` are not guaranteed to be a boolean\n",
    "print(z)\n",
    "\n",
    "x = 0\n",
    "y = 1\n",
    "z = x and y # z = x, so z = 0 (see above)\n",
    "print(z)\n",
    "\n",
    "x = 1\n",
    "y = 0\n",
    "z = x and y # z = y, so z = 0 (see above)\n",
    "print(z)\n",
    "\n",
    "x = 0\n",
    "y = 0\n",
    "z = x and y # z = x, so z = 0 (see above)\n",
    "print(z)"
   ]
  },
  {
   "cell_type": "markdown",
   "metadata": {},
   "source": [
    "The 1 's in the above example can be changed to any truthy value, and the 0 's can be changed to any falsey value."
   ]
  },
  {
   "cell_type": "markdown",
   "metadata": {},
   "source": [
    "# Section 11.5: or\n",
    "Evaluates to the first truthy argument if either one of the arguments is truthy. If both arguments are falsey,\n",
    "evaluates to the second argument."
   ]
  },
  {
   "cell_type": "code",
   "execution_count": 13,
   "metadata": {},
   "outputs": [
    {
     "name": "stdout",
     "output_type": "stream",
     "text": [
      "True\n",
      "True\n",
      "True\n",
      "False\n",
      "1\n",
      "1\n",
      "1\n",
      "0\n"
     ]
    }
   ],
   "source": [
    "x = True\n",
    "y = True\n",
    "z = x or y # z = True\n",
    "print(z)\n",
    "\n",
    "x = True\n",
    "y = False\n",
    "z = x or y # z = True\n",
    "print(z)\n",
    "\n",
    "x = False\n",
    "y = True\n",
    "z = x or y # z = True\n",
    "print(z)\n",
    "\n",
    "x = False\n",
    "y = False\n",
    "z = x or y # z = False\n",
    "print(z)\n",
    "\n",
    "x = 1\n",
    "y = 1\n",
    "z = x or y # z = x, so z = 1, see `and` and `or` are not guaranteed to be a boolean\n",
    "print(z)\n",
    "\n",
    "x = 1\n",
    "y = 0\n",
    "z = x or y # z = x, so z = 1 (see above)\n",
    "print(z)\n",
    "\n",
    "x = 0\n",
    "y = 1\n",
    "z = x or y # z = y, so z = 1 (see above)\n",
    "print(z)\n",
    "\n",
    "x = 0\n",
    "y = 0\n",
    "z = x or y # z = y, so z = 0 (see above)\n",
    "print(z)"
   ]
  },
  {
   "cell_type": "markdown",
   "metadata": {},
   "source": [
    "The 1 's in the above example can be changed to any truthy value, and the 0 's can be changed to any falsey value."
   ]
  },
  {
   "cell_type": "markdown",
   "metadata": {},
   "source": [
    "# Section 11.6: not\n",
    "It returns the opposite of the following statement:"
   ]
  },
  {
   "cell_type": "code",
   "execution_count": 14,
   "metadata": {},
   "outputs": [
    {
     "name": "stdout",
     "output_type": "stream",
     "text": [
      "False\n",
      "True\n"
     ]
    }
   ],
   "source": [
    "x = True\n",
    "y = not x # y = False\n",
    "print(y)\n",
    "\n",
    "x = False\n",
    "y = not x # y = True\n",
    "print(y)"
   ]
  },
  {
   "cell_type": "markdown",
   "metadata": {},
   "source": [
    "# End of chapter 11"
   ]
  }
 ],
 "metadata": {
  "kernelspec": {
   "display_name": "Python 3",
   "language": "python",
   "name": "python3"
  },
  "language_info": {
   "codemirror_mode": {
    "name": "ipython",
    "version": 3
   },
   "file_extension": ".py",
   "mimetype": "text/x-python",
   "name": "python",
   "nbconvert_exporter": "python",
   "pygments_lexer": "ipython3",
   "version": "3.8.5"
  }
 },
 "nbformat": 4,
 "nbformat_minor": 4
}
