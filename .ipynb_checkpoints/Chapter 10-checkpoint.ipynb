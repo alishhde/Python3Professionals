{
 "cells": [
  {
   "cell_type": "markdown",
   "metadata": {},
   "source": [
    "# Chapter 10: Bitwise Operators\n",
    "Bitwise operations alter binary strings at the bit level. These operations are incredibly basic and are directly\n",
    "supported by the processor. These few operations are necessary in working with device drivers, low-level graphics,\n",
    "cryptography, and network communications. This section provides useful knowledge and examples of Python's\n",
    "bitwise operators."
   ]
  },
  {
   "cell_type": "markdown",
   "metadata": {},
   "source": [
    "# Section 10.1: Bitwise NOT\n",
    "\n",
    "The ~ operator will flip all of the bits in the number. Since computers use signed number representations — most notably, the two's complement notation to encode negative binary numbers where negative numbers are written with a leading one (1) instead of a leading zero (0).\n",
    "\n",
    "This means that if you were using 8 bits to represent your two's complement numbers, you would treat patterns from 0000 0000 to 0111 1111 to represent numbers from 0 to 127 and reserve 1xxx xxxx to represent negative numbers.\n"
   ]
  },
  {
   "cell_type": "code",
   "execution_count": 5,
   "metadata": {},
   "outputs": [
    {
     "name": "stdout",
     "output_type": "stream",
     "text": [
      "-1\n",
      "-2\n",
      "-3\n",
      "-124\n"
     ]
    }
   ],
   "source": [
    "print(~0)\n",
    "print(~1)\n",
    "print(~2)\n",
    "print(~123)"
   ]
  },
  {
   "cell_type": "markdown",
   "metadata": {},
   "source": [
    "Note, the overall effect of this operation when applied to positive numbers can be summarized:"
   ]
  },
  {
   "cell_type": "raw",
   "metadata": {},
   "source": [
    "~n -> -|n+1|"
   ]
  },
  {
   "cell_type": "markdown",
   "metadata": {},
   "source": [
    "And then, when applied to negative numbers, the corresponding effect is:"
   ]
  },
  {
   "cell_type": "raw",
   "metadata": {},
   "source": [
    "~-n -> |n-1|"
   ]
  },
  {
   "cell_type": "code",
   "execution_count": 6,
   "metadata": {},
   "outputs": [
    {
     "name": "stdout",
     "output_type": "stream",
     "text": [
      "-1\n",
      "0\n",
      "1\n",
      "122\n"
     ]
    }
   ],
   "source": [
    "print(~-0)\n",
    "print(~-1)\n",
    "print(~-2)\n",
    "print(~-123)"
   ]
  },
  {
   "cell_type": "markdown",
   "metadata": {},
   "source": [
    "# Section 10.2: Bitwise XOR (Exclusive OR)\n",
    "\n",
    "The ^ operator will perform a binary XOR in which a binary 1 is copied if and only if it is the value of exactly one\n",
    "operand. Another way of stating this is that the result is 1 only if the operands are different. Examples include:"
   ]
  },
  {
   "cell_type": "code",
   "execution_count": 10,
   "metadata": {},
   "outputs": [
    {
     "name": "stdout",
     "output_type": "stream",
     "text": [
      "34\n",
      "0b100010\n"
     ]
    }
   ],
   "source": [
    "# 0 ^ 0 = 0\n",
    "# 0 ^ 1 = 1\n",
    "# 1 ^ 0 = 1\n",
    "# 1 ^ 1 = 0\n",
    "\n",
    "# 60 = 0b111100\n",
    "# 30 = 0b011110\n",
    "\n",
    "print(60 ^ 30)\n",
    "# Out: 34\n",
    "# 34 = 0b100010\n",
    "\n",
    "print(bin(60 ^ 30))\n",
    "# Out: 0b100010"
   ]
  },
  {
   "cell_type": "markdown",
   "metadata": {},
   "source": [
    "# Section 10.3: Bitwise AND\n",
    "The & operator will perform a binary AND, where a bit is copied if it exists in both operands. That means:"
   ]
  },
  {
   "cell_type": "code",
   "execution_count": 12,
   "metadata": {},
   "outputs": [
    {
     "name": "stdout",
     "output_type": "stream",
     "text": [
      "28\n",
      "0b11100\n"
     ]
    }
   ],
   "source": [
    "# 0 & 0 = 0\n",
    "# 0 & 1 = 1\n",
    "# 1 & 0 = 1\n",
    "# 1 & 1 = 0\n",
    "\n",
    "# 60 = 0b111100\n",
    "# 30 = 0b011110\n",
    "print(60 & 30)\n",
    "# Out: 28\n",
    "# 28 = 0b11100\n",
    "\n",
    "print(bin(60 & 30))\n",
    "# Out: 0b11100"
   ]
  },
  {
   "cell_type": "markdown",
   "metadata": {},
   "source": [
    "# Section 10.4: Bitwise OR\n",
    "The | operator will perform a binary \"or,\" where a bit is copied if it exists in either operand. That means:"
   ]
  },
  {
   "cell_type": "code",
   "execution_count": 14,
   "metadata": {},
   "outputs": [
    {
     "name": "stdout",
     "output_type": "stream",
     "text": [
      "62\n",
      "0b111110\n"
     ]
    }
   ],
   "source": [
    "# 0 | 0 = 0\n",
    "# 0 | 1 = 1\n",
    "# 1 | 0 = 1\n",
    "# 1 | 1 = 0\n",
    "\n",
    "# 60 = 0b111100\n",
    "# 30 = 0b011110\n",
    "print(60 | 30)\n",
    "# Out: 62\n",
    "# 62 = 0b111110\n",
    "\n",
    "print(bin(60 | 30))\n",
    "# Out: 0b111110"
   ]
  },
  {
   "cell_type": "markdown",
   "metadata": {},
   "source": [
    "# Section 10.5: Bitwise Left Shift\n",
    "The << operator will perform a bitwise \"left shift,\" where the left operand's value is moved left by the number of bits\n",
    "given by the right operand."
   ]
  },
  {
   "cell_type": "code",
   "execution_count": 17,
   "metadata": {},
   "outputs": [
    {
     "name": "stdout",
     "output_type": "stream",
     "text": [
      "8\n"
     ]
    }
   ],
   "source": [
    "# 2 = 0b10\n",
    "print(2 << 2)"
   ]
  },
  {
   "cell_type": "markdown",
   "metadata": {},
   "source": [
    "Performing a left bit shift of 1 is equivalent to multiplication by 2 :"
   ]
  },
  {
   "cell_type": "code",
   "execution_count": 19,
   "metadata": {},
   "outputs": [
    {
     "name": "stdout",
     "output_type": "stream",
     "text": [
      "14\n"
     ]
    }
   ],
   "source": [
    "print(7 << 1)"
   ]
  },
  {
   "cell_type": "markdown",
   "metadata": {},
   "source": [
    "Performing a left bit shift of n is equivalent to multiplication by 2**n :"
   ]
  },
  {
   "cell_type": "code",
   "execution_count": 21,
   "metadata": {},
   "outputs": [
    {
     "name": "stdout",
     "output_type": "stream",
     "text": [
      "48\n"
     ]
    }
   ],
   "source": [
    "print(3 << 4)"
   ]
  },
  {
   "cell_type": "markdown",
   "metadata": {},
   "source": [
    "# Section 10.6: Bitwise Right Shift\n",
    "The >> operator will perform a bitwise \"right shift,\" where the left operand's value is moved right by the number of\n",
    "bits given by the right operand."
   ]
  },
  {
   "cell_type": "code",
   "execution_count": 24,
   "metadata": {},
   "outputs": [
    {
     "name": "stdout",
     "output_type": "stream",
     "text": [
      "2\n",
      "0b10\n"
     ]
    }
   ],
   "source": [
    "# 8 = 0b1000\n",
    "print(8 >> 2)\n",
    "# 2 = 0b10\n",
    "\n",
    "print(bin(8 >> 2))"
   ]
  },
  {
   "cell_type": "markdown",
   "metadata": {},
   "source": [
    "Performing a right bit shift of 1 is equivalent to integer division by 2 :"
   ]
  },
  {
   "cell_type": "code",
   "execution_count": 27,
   "metadata": {},
   "outputs": [
    {
     "name": "stdout",
     "output_type": "stream",
     "text": [
      "18\n",
      "7\n"
     ]
    }
   ],
   "source": [
    "print(36 >> 1)\n",
    "\n",
    "print(15 >> 1)"
   ]
  },
  {
   "cell_type": "markdown",
   "metadata": {},
   "source": [
    "Performing a right bit shift of n is equivalent to integer division by 2**n :"
   ]
  },
  {
   "cell_type": "code",
   "execution_count": 29,
   "metadata": {},
   "outputs": [
    {
     "name": "stdout",
     "output_type": "stream",
     "text": [
      "3\n",
      "7\n"
     ]
    }
   ],
   "source": [
    "print(48 >> 4)\n",
    "\n",
    "print(59 >> 3)"
   ]
  },
  {
   "cell_type": "markdown",
   "metadata": {},
   "source": [
    "# Section 10.7: Inplace Operations\n",
    "All of the Bitwise operators (except ~ ) have their own in place versions"
   ]
  },
  {
   "cell_type": "code",
   "execution_count": 31,
   "metadata": {},
   "outputs": [
    {
     "name": "stdout",
     "output_type": "stream",
     "text": [
      "0\n",
      "3\n",
      "4\n",
      "1\n",
      "6\n"
     ]
    }
   ],
   "source": [
    "a = 0b001\n",
    "a &= 0b010\n",
    "# a = 0b000\n",
    "print(a)\n",
    "\n",
    "a = 0b001\n",
    "a |= 0b010\n",
    "# a = 0b011\n",
    "print(a)\n",
    "\n",
    "a = 0b001\n",
    "a <<= 2\n",
    "# a = 0b100\n",
    "print(a)\n",
    "\n",
    "a = 0b100\n",
    "a >>= 2\n",
    "# a = 0b001\n",
    "print(a)\n",
    "\n",
    "a = 0b101\n",
    "a ^= 0b011\n",
    "# a = 0b110\n",
    "print(a)"
   ]
  },
  {
   "cell_type": "markdown",
   "metadata": {},
   "source": [
    "# End of chapter 10"
   ]
  }
 ],
 "metadata": {
  "kernelspec": {
   "display_name": "Python 3",
   "language": "python",
   "name": "python3"
  },
  "language_info": {
   "codemirror_mode": {
    "name": "ipython",
    "version": 3
   },
   "file_extension": ".py",
   "mimetype": "text/x-python",
   "name": "python",
   "nbconvert_exporter": "python",
   "pygments_lexer": "ipython3",
   "version": "3.8.5"
  }
 },
 "nbformat": 4,
 "nbformat_minor": 4
}
