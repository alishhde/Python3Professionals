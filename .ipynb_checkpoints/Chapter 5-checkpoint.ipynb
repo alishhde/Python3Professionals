{
 "cells": [
  {
   "cell_type": "markdown",
   "metadata": {},
   "source": [
    "# Chapter 5: Date and Time"
   ]
  },
  {
   "cell_type": "markdown",
   "metadata": {},
   "source": [
    "# Section 5.1: Parsing a string into a timezone aware datetime object\n",
    "\n",
    "Python 3.2+ has support for %z format when parsing a string into a datetime object.\n",
    "   - UTC offset in the form +HHMM or -HHMM (empty string if the object is naive).\n",
    "\n",
    "__Python 3.x Version ≥ 3.2__ :"
   ]
  },
  {
   "cell_type": "code",
   "execution_count": 6,
   "metadata": {},
   "outputs": [
    {
     "name": "stdout",
     "output_type": "stream",
     "text": [
      "2016-04-15 08:27:18-05:00\n"
     ]
    }
   ],
   "source": [
    "import datetime\n",
    "dt = datetime.datetime.strptime(\"2016-04-15T08:27:18-0500\", \"%Y-%m-%dT%H:%M:%S%z\")\n",
    "print(dt)"
   ]
  },
  {
   "cell_type": "markdown",
   "metadata": {},
   "source": [
    "# Section 5.2: Constructing timezone-aware datetimes\n",
    "\n",
    "By default all datetime objects are naive. To make them timezone-aware, you must attach a tzinfo object, which\n",
    "provides the UTC offset and timezone abbreviation as a function of date and time.\n",
    "\n",
    "__Fixed Offset Time Zones__\n",
    "\n",
    "For time zones that are a fixed offset from UTC, in Python 3.2+, the datetime module provides the timezone class, a\n",
    "concrete implementation of tzinfo , which takes a timedelta and an (optional) name parameter:"
   ]
  },
  {
   "cell_type": "code",
   "execution_count": 8,
   "metadata": {},
   "outputs": [
    {
     "name": "stdout",
     "output_type": "stream",
     "text": [
      "2015-01-01 12:00:00+09:00\n",
      "UTC+09:00\n",
      "<built-in method tzname of datetime.datetime object at 0x7f8d2445ded0>\n"
     ]
    }
   ],
   "source": [
    "from datetime import datetime, timedelta, timezone\n",
    "JST = timezone(timedelta(hours=+9))\n",
    "\n",
    "dt = datetime(2015, 1, 1, 12, 0, 0, tzinfo=JST)\n",
    "print(dt)\n",
    "# 2015-01-01 12:00:00+09:00\n",
    "\n",
    "print(dt.tzname())\n",
    "# UTC+09:00\n",
    "\n",
    "dt = datetime(2015, 1, 1, 12, 0, 0, tzinfo=timezone(timedelta(hours=9), 'JST'))\n",
    "print(dt.tzname)\n",
    "# 'JST'"
   ]
  },
  {
   "cell_type": "markdown",
   "metadata": {},
   "source": [
    "__Zones with daylight savings time__\n",
    "\n",
    "\n",
    "For zones with daylight savings time, python standard libraries do not provide a standard class, so it is necessary to\n",
    "use a third party library. pytz and dateutil are popular libraries providing time zone classes.\n",
    "\n",
    "In addition to static time zones, dateutil provides time zone classes that use daylight savings time (see the\n",
    "documentation for the tz module). You can use the tz.gettz() method to get a time zone object, which can then\n",
    "be passed directly to the datetime constructor:"
   ]
  },
  {
   "cell_type": "code",
   "execution_count": 10,
   "metadata": {},
   "outputs": [
    {
     "name": "stdout",
     "output_type": "stream",
     "text": [
      "2015-01-01 12:00:00+03:30\n",
      "2015-01-01 12:00:00-08:00\n",
      "2015-07-01 12:00:00-07:00\n"
     ]
    }
   ],
   "source": [
    "from datetime import datetime\n",
    "from dateutil import tz\n",
    "local = tz.gettz() # Local time\n",
    "PT = tz.gettz('US/Pacific') # Pacific time\n",
    "\n",
    "dt_l = datetime(2015, 1, 1, 12, tzinfo=local) # I am in EST\n",
    "dt_pst = datetime(2015, 1, 1, 12, tzinfo=PT)\n",
    "dt_pdt = datetime(2015, 7, 1, 12, tzinfo=PT) # DST is handled automatically\n",
    "print(dt_l)\n",
    "# 2015-01-01 12:00:00-05:00\n",
    "\n",
    "print(dt_pst)\n",
    "# 2015-01-01 12:00:00-08:00\n",
    "\n",
    "print(dt_pdt)\n",
    "# 2015-07-01 12:00:00-07:00"
   ]
  },
  {
   "cell_type": "markdown",
   "metadata": {},
   "source": [
    "# Section 5.3: Computing time differences\n",
    "the timedelta module comes in handy to compute differences between times:"
   ]
  },
  {
   "cell_type": "code",
   "execution_count": 15,
   "metadata": {},
   "outputs": [
    {
     "name": "stdout",
     "output_type": "stream",
     "text": [
      "2021-04-20 21:14:47.457771\n",
      "2016-05-23 00:00:00\n"
     ]
    }
   ],
   "source": [
    "from datetime import datetime, timedelta\n",
    "now = datetime.now()\n",
    "then = datetime(2016, 5, 23) \n",
    "# datetime.datetime(2016, 05, 23, 0, 0, 0)\n",
    "\n",
    "print(now)\n",
    "print(then)"
   ]
  },
  {
   "cell_type": "markdown",
   "metadata": {},
   "source": [
    "Specifying time is optional when creating a new datetime object"
   ]
  },
  {
   "cell_type": "code",
   "execution_count": 13,
   "metadata": {},
   "outputs": [],
   "source": [
    "delta = now - then"
   ]
  },
  {
   "cell_type": "markdown",
   "metadata": {},
   "source": [
    "delta is of type timedelta"
   ]
  },
  {
   "cell_type": "code",
   "execution_count": 14,
   "metadata": {},
   "outputs": [
    {
     "name": "stdout",
     "output_type": "stream",
     "text": [
      "1793\n",
      "76402\n"
     ]
    }
   ],
   "source": [
    "print(delta.days)\n",
    "# 60\n",
    "\n",
    "print(delta.seconds)\n",
    "# 40826"
   ]
  },
  {
   "cell_type": "markdown",
   "metadata": {},
   "source": [
    "To get n day's after and n day's before date we could use :\n",
    "\n",
    "__n day's after date:__\n"
   ]
  },
  {
   "cell_type": "code",
   "execution_count": 19,
   "metadata": {},
   "outputs": [],
   "source": [
    "def get_n_days_after_date(date_format=\"%d %B %Y\", add_days=120):\n",
    "    date_n_days_after = datetime.datetime.now() + timedelta(days=add_days)\n",
    "    \n",
    "    return date_n_days_after.strftime(date_format)"
   ]
  },
  {
   "cell_type": "markdown",
   "metadata": {},
   "source": [
    "__n day's before date:__"
   ]
  },
  {
   "cell_type": "code",
   "execution_count": 21,
   "metadata": {},
   "outputs": [],
   "source": [
    "def get_n_days_before_date(self, date_format=\"%d %B %Y\", days_before=120):\n",
    "    date_n_days_ago = datetime.datetime.now() - timedelta(days=days_before)\n",
    "    \n",
    "    return date_n_days_ago.strftime(date_format)"
   ]
  },
  {
   "cell_type": "markdown",
   "metadata": {},
   "source": [
    "# Section 5.4: Basic datetime objects usage\n",
    "\n",
    "The datetime module contains three primary types of objects - date, time, and datetime."
   ]
  },
  {
   "cell_type": "code",
   "execution_count": 28,
   "metadata": {},
   "outputs": [],
   "source": [
    "import datetime\n",
    "\n",
    "# Date object\n",
    "today = datetime.date.today()\n",
    "new_year = datetime.date(2017, 1, 1) \n",
    "#datetime.date(2017, 1, 1)\n",
    "\n",
    "# Time objecT\n",
    "noon = datetime.time(12, 0, 0) #datetime.time(12, 0)\n",
    "\n",
    "# Current datetime\n",
    "now = datetime.datetime.now()\n",
    "\n",
    "# Datetime object\n",
    "millenium_turn = datetime.datetime(2000, 1, 1, 0, 0, 0) \n",
    "#datetime.datetime(2000, 1, 1, 0, 0)"
   ]
  },
  {
   "cell_type": "markdown",
   "metadata": {},
   "source": [
    "# Section 5.5: Switching between time zones\n",
    "\n",
    "\n",
    "To switch between time zones, you need datetime objects that are timezone-aware."
   ]
  },
  {
   "cell_type": "code",
   "execution_count": 30,
   "metadata": {},
   "outputs": [
    {
     "data": {
      "text/plain": [
       "datetime.datetime(2021, 4, 20, 21, 20, 51, 258286, tzinfo=tzlocal())"
      ]
     },
     "execution_count": 30,
     "metadata": {},
     "output_type": "execute_result"
    }
   ],
   "source": [
    "from datetime import datetime\n",
    "from dateutil import tz\n",
    "\n",
    "utc = tz.tzutc()\n",
    "local = tz.tzlocal()\n",
    "\n",
    "utc_now = datetime.utcnow()\n",
    "utc_now # Not timezone-aware.\n",
    "\n",
    "utc_now = utc_now.replace(tzinfo=utc)\n",
    "utc_now # Timezone-aware.\n",
    "\n",
    "local_now = utc_now.astimezone(local)\n",
    "local_now # Converted to local time."
   ]
  },
  {
   "cell_type": "markdown",
   "metadata": {},
   "source": [
    "# Section 5.6: Simple date arithmetic\n",
    "\n",
    "Dates don't exist in isolation. It is common that you will need to find the amount of time between dates or\n",
    "determine what the date will be tomorrow. This can be accomplished using timedelta objects"
   ]
  },
  {
   "cell_type": "code",
   "execution_count": 32,
   "metadata": {},
   "outputs": [
    {
     "name": "stdout",
     "output_type": "stream",
     "text": [
      "Today: 2021-04-20\n",
      "Yesterday: 2021-04-19\n",
      "Tomorrow: 2021-04-21\n",
      "Time between tomorrow and yesterday: 2 days, 0:00:00\n"
     ]
    }
   ],
   "source": [
    "import datetime\n",
    "\n",
    "today = datetime.date.today()\n",
    "print('Today:', today)\n",
    "\n",
    "yesterday = today - datetime.timedelta(days=1)\n",
    "print('Yesterday:', yesterday)\n",
    "\n",
    "tomorrow = today + datetime.timedelta(days=1)\n",
    "print('Tomorrow:', tomorrow)\n",
    "\n",
    "print('Time between tomorrow and yesterday:', tomorrow - yesterday)"
   ]
  },
  {
   "cell_type": "markdown",
   "metadata": {},
   "source": [
    "# Section 5.7: Converting timestamp to datetime\n",
    "\n",
    "\n",
    "The datetime module can convert a POSIX timestamp to a ITC datetime object.\n",
    "The Epoch is January 1st, 1970 midnight."
   ]
  },
  {
   "cell_type": "code",
   "execution_count": 35,
   "metadata": {},
   "outputs": [],
   "source": [
    "import time\n",
    "from datetime import datetime\n",
    "seconds_since_epoch=time.time() #1469182681.709\n",
    "\n",
    "utc_date=datetime.utcfromtimestamp(seconds_since_epoch) \n",
    "#datetime.datetime(2016, 7, 22, 10, 18, 1, 709000)"
   ]
  },
  {
   "cell_type": "markdown",
   "metadata": {},
   "source": [
    "# Section 5.8: Subtracting months from a date accurately\n",
    "\n",
    "Using the calendar module"
   ]
  },
  {
   "cell_type": "code",
   "execution_count": 37,
   "metadata": {},
   "outputs": [],
   "source": [
    "import calendar\n",
    "from datetime import date\n",
    "def monthdelta(date, delta):\n",
    "    m, y = (date.month+delta) % 12, date.year + ((date.month)+delta-1) // 12\n",
    "    if not m: m = 12\n",
    "    d = min(date.day, calendar.monthrange(y, m)[1])\n",
    "    return date.replace(day=d,month=m, year=y)\n",
    "\n",
    "next_month = monthdelta(date.today(), 1) #datetime.date(2016, 10, 23)"
   ]
  },
  {
   "cell_type": "markdown",
   "metadata": {},
   "source": [
    "Using the dateutils module"
   ]
  },
  {
   "cell_type": "code",
   "execution_count": 39,
   "metadata": {},
   "outputs": [],
   "source": [
    "import datetime\n",
    "import dateutil.relativedelta\n",
    "d = datetime.datetime.strptime(\"2013-03-31\", \"%Y-%m-%d\")\n",
    "d2 = d - dateutil.relativedelta.relativedelta(months=1) \n",
    "#datetime.datetime(2013, 2, 28, 0, 0)"
   ]
  },
  {
   "cell_type": "markdown",
   "metadata": {},
   "source": [
    "# Section 5.9: Parsing an arbitrary ISO 8601 timestamp with\n",
    "minimal libraries\n",
    "Python has only limited support for parsing ISO 8601 timestamps. For strptime you need to know exactly what\n",
    "format it is in. As a complication the stringification of a datetime is an ISO 8601 timestamp, with space as a\n",
    "separator and 6 digit fraction:"
   ]
  },
  {
   "cell_type": "code",
   "execution_count": 41,
   "metadata": {},
   "outputs": [
    {
     "data": {
      "text/plain": [
       "'2016-07-22 09:25:59.555555'"
      ]
     },
     "execution_count": 41,
     "metadata": {},
     "output_type": "execute_result"
    }
   ],
   "source": [
    "str(datetime.datetime(2016, 7, 22, 9, 25, 59, 555555))\n",
    "# '2016-07-22 09:25:59.555555'"
   ]
  },
  {
   "cell_type": "markdown",
   "metadata": {},
   "source": [
    "but if the fraction is 0, no fractional part is output"
   ]
  },
  {
   "cell_type": "code",
   "execution_count": 42,
   "metadata": {},
   "outputs": [
    {
     "data": {
      "text/plain": [
       "'2016-07-22 09:25:59'"
      ]
     },
     "execution_count": 42,
     "metadata": {},
     "output_type": "execute_result"
    }
   ],
   "source": [
    "str(datetime.datetime(2016, 7, 22, 9, 25, 59, 0))\n",
    "# '2016-07-22 09:25:59'"
   ]
  },
  {
   "cell_type": "markdown",
   "metadata": {},
   "source": [
    "# Section 5.10: Get an ISO 8601 timestamp\n",
    "\n",
    "...."
   ]
  },
  {
   "cell_type": "markdown",
   "metadata": {},
   "source": [
    "# Section 5.11: Parsing a string with a short time zone name into a timezone aware datetime object\n",
    "\n",
    "...."
   ]
  },
  {
   "cell_type": "markdown",
   "metadata": {},
   "source": [
    "# Section 5.12: Fuzzy datetime parsing (extracting datetime out of a text)\n",
    "\n",
    "...."
   ]
  },
  {
   "cell_type": "markdown",
   "metadata": {},
   "source": [
    "# Section 5.13: Iterate over dates\n",
    "\n",
    "Sometimes you want to iterate over a range of dates from a start date to some end date. You can do it using\n",
    "datetime library and timedelta object:"
   ]
  },
  {
   "cell_type": "code",
   "execution_count": 45,
   "metadata": {},
   "outputs": [
    {
     "name": "stdout",
     "output_type": "stream",
     "text": [
      "2021-04-20\n",
      "2021-04-21\n",
      "2021-04-22\n",
      "2021-04-23\n",
      "2021-04-24\n",
      "2021-04-25\n",
      "2021-04-26\n"
     ]
    }
   ],
   "source": [
    "import datetime\n",
    "\n",
    "# The size of each step in days\n",
    "day_delta = datetime.timedelta(days=1)\n",
    "\n",
    "start_date = datetime.date.today()\n",
    "end_date = start_date + 7*day_delta\n",
    "\n",
    "for i in range((end_date - start_date).days):\n",
    "    print(start_date + i*day_delta)"
   ]
  },
  {
   "cell_type": "code",
   "execution_count": null,
   "metadata": {},
   "outputs": [],
   "source": [
    "# End of Chapter 5"
   ]
  }
 ],
 "metadata": {
  "kernelspec": {
   "display_name": "Python 3",
   "language": "python",
   "name": "python3"
  },
  "language_info": {
   "codemirror_mode": {
    "name": "ipython",
    "version": 3
   },
   "file_extension": ".py",
   "mimetype": "text/x-python",
   "name": "python",
   "nbconvert_exporter": "python",
   "pygments_lexer": "ipython3",
   "version": "3.8.5"
  }
 },
 "nbformat": 4,
 "nbformat_minor": 4
}
