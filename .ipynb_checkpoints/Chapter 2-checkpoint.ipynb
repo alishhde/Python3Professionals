{
 "cells": [
  {
   "cell_type": "markdown",
   "metadata": {},
   "source": [
    "# Chapter 2: Python Data Types"
   ]
  },
  {
   "cell_type": "markdown",
   "metadata": {},
   "source": [
    "Data types are nothing but variables you use to reserve some space in memory. Python variables do not need an\n",
    "explicit declaration to reserve memory space. The declaration happens automatically when you assign a value to a\n",
    "variable."
   ]
  },
  {
   "cell_type": "markdown",
   "metadata": {},
   "source": [
    "# Section 2.1: String Data Type"
   ]
  },
  {
   "cell_type": "markdown",
   "metadata": {},
   "source": [
    "String are identified as a contiguous set of characters represented in the quotation marks. Python allows for either\n",
    "pairs of single or double quotes. Strings are immutable sequence data type, i.e each time one makes any changes\n",
    "to a string, completely new string object is created."
   ]
  },
  {
   "cell_type": "code",
   "execution_count": 1,
   "metadata": {},
   "outputs": [
    {
     "name": "stdout",
     "output_type": "stream",
     "text": [
      "Hello World\n",
      "H\n",
      "Hello\n"
     ]
    }
   ],
   "source": [
    "a_str = 'Hello World'\n",
    "print(a_str)\n",
    "#output will be whole string. Hello World\n",
    "print(a_str[0])\n",
    "#output will be first character. H\n",
    "print(a_str[0:5])\n",
    "#output will be first five characters. Hello"
   ]
  },
  {
   "cell_type": "markdown",
   "metadata": {},
   "source": [
    "# Section 2.2: Set Data Types"
   ]
  },
  {
   "cell_type": "markdown",
   "metadata": {},
   "source": [
    "Sets are unordered collections of unique objects, there are two types of set :\n",
    "  1. Sets - They are mutable and new elements can be added once sets are defined"
   ]
  },
  {
   "cell_type": "code",
   "execution_count": 2,
   "metadata": {},
   "outputs": [
    {
     "name": "stdout",
     "output_type": "stream",
     "text": [
      "{'pear', 'apple', 'banana', 'orange'}\n",
      "{'a', 'c', 'd', 'r', 'b'}\n",
      "{'a', 'c', 'd', 'r', 'b', 'z'}\n"
     ]
    }
   ],
   "source": [
    "basket = {'apple', 'orange', 'apple', 'pear', 'orange', 'banana'}\n",
    "print(basket)\n",
    "# duplicates will be removed= {'orange', 'banana', 'pear', 'apple'}\n",
    "\n",
    "a = set('abracadabra')\n",
    "print(a)\n",
    "# unique letters in a= {'a', 'r', 'b', 'c', 'd'}\n",
    "\n",
    "a.add('z')\n",
    "print(a)\n",
    "# {'a', 'c', 'r', 'b', 'z', 'd'}"
   ]
  },
  {
   "cell_type": "markdown",
   "metadata": {},
   "source": [
    "  2. Frozen Sets - They are immutable and new elements cannot added after its defined."
   ]
  },
  {
   "cell_type": "code",
   "execution_count": 3,
   "metadata": {},
   "outputs": [
    {
     "name": "stdout",
     "output_type": "stream",
     "text": [
      "frozenset({'a', 'd', 'g', 's', 'f'})\n",
      "frozenset({'Frankfurt', 'Freiburg', 'Basel'})\n"
     ]
    }
   ],
   "source": [
    "b = frozenset('asdfagsa')\n",
    "print(b)\n",
    "# frozenset({'f', 'g', 'd', 'a', 's'})\n",
    "\n",
    "cities = frozenset([\"Frankfurt\", \"Basel\",\"Freiburg\"])\n",
    "print(cities)\n",
    "# frozenset({'Frankfurt', 'Basel', 'Freiburg'})"
   ]
  },
  {
   "cell_type": "markdown",
   "metadata": {},
   "source": [
    "# Section 2.3: Numbers data type\n",
    "Numbers have four types in Python. Int, float, complex, and long."
   ]
  },
  {
   "cell_type": "code",
   "execution_count": 6,
   "metadata": {},
   "outputs": [],
   "source": [
    "int_num = 10\n",
    "#int value\n",
    "\n",
    "float_num = 10.2\n",
    "#float value\n",
    "\n",
    "complex_num = 3.14j\n",
    "#complex value\n",
    "\n",
    "long_num = 1234567\n",
    "#long value"
   ]
  },
  {
   "cell_type": "markdown",
   "metadata": {},
   "source": [
    "# Section 2.4: List Data Type\n",
    "A list contains items separated by commas and enclosed within square brackets [].lists are almost similar to arrays\n",
    "in C. One difference is that all the items belonging to a list can be of different data type."
   ]
  },
  {
   "cell_type": "code",
   "execution_count": 7,
   "metadata": {},
   "outputs": [
    {
     "name": "stdout",
     "output_type": "stream",
     "text": [
      "[123, 'abcd', 10.2, 'd']\n",
      "[123, 'abcd']\n",
      "['hello', 'world', 'hello', 'world']\n",
      "[123, 'abcd', 10.2, 'd', 'hello', 'world']\n"
     ]
    }
   ],
   "source": [
    "list = [123,'abcd',10.2,'d']\n",
    "#can be an array of any data type or single data type.\n",
    "\n",
    "list1 = ['hello','world']\n",
    "print(list)\n",
    "#will output whole list. [123,'abcd',10.2,'d']\n",
    "\n",
    "print(list[0:2])\n",
    "#will output first two element of list. [123,'abcd']\n",
    "\n",
    "print(list1 * 2)\n",
    "#will gave list1 two times. ['hello','world','hello','world']\n",
    "\n",
    "print(list + list1)\n",
    "#will gave concatenation of both the lists."
   ]
  },
  {
   "cell_type": "markdown",
   "metadata": {},
   "source": [
    "# Section 2.5: Dictionary Data Type\n",
    "Dictionary consists of key-value pairs. It is enclosed by curly braces {} and values can be assigned and accessed\n",
    "using square brackets[]."
   ]
  },
  {
   "cell_type": "code",
   "execution_count": 10,
   "metadata": {},
   "outputs": [
    {
     "name": "stdout",
     "output_type": "stream",
     "text": [
      "{'name': 'red', 'age': 10}\n",
      "red\n",
      "dict_values(['red', 10])\n",
      "dict_keys(['name', 'age'])\n"
     ]
    }
   ],
   "source": [
    "dic={'name':'red','age':10}\n",
    "print(dic)\n",
    "\n",
    "print(dic['name'])\n",
    "\n",
    "print(dic.values())\n",
    "\n",
    "print(dic.keys())"
   ]
  },
  {
   "cell_type": "markdown",
   "metadata": {},
   "source": [
    "# Section 2.6: Tuple Data Type\n",
    "Lists are enclosed in brackets [ ] and their elements and size can be changed, while tuples are enclosed in\n",
    "parentheses ( ) and cannot be updated. Tuples are immutable."
   ]
  },
  {
   "cell_type": "code",
   "execution_count": 13,
   "metadata": {},
   "outputs": [
    {
     "name": "stdout",
     "output_type": "stream",
     "text": [
      "(123, 'hello')\n",
      "123\n",
      "(123, 'hello', 'world')\n"
     ]
    }
   ],
   "source": [
    "tuple = (123,'hello')\n",
    "tuple1 = ('world', )\n",
    "print(tuple)\n",
    "\n",
    "print(tuple[0])\n",
    "\n",
    "print(tuple + tuple1)\n"
   ]
  },
  {
   "cell_type": "code",
   "execution_count": 14,
   "metadata": {},
   "outputs": [
    {
     "ename": "TypeError",
     "evalue": "'tuple' object does not support item assignment",
     "output_type": "error",
     "traceback": [
      "\u001b[0;31m---------------------------------------------------------------------------\u001b[0m",
      "\u001b[0;31mTypeError\u001b[0m                                 Traceback (most recent call last)",
      "\u001b[0;32m<ipython-input-14-3ebce2709080>\u001b[0m in \u001b[0;36m<module>\u001b[0;34m\u001b[0m\n\u001b[0;32m----> 1\u001b[0;31m \u001b[0mtuple\u001b[0m\u001b[0;34m[\u001b[0m\u001b[0;36m1\u001b[0m\u001b[0;34m]\u001b[0m\u001b[0;34m=\u001b[0m\u001b[0;34m'update'\u001b[0m\u001b[0;34m\u001b[0m\u001b[0;34m\u001b[0m\u001b[0m\n\u001b[0m\u001b[1;32m      2\u001b[0m \u001b[0;31m#this will give you error.\u001b[0m\u001b[0;34m\u001b[0m\u001b[0;34m\u001b[0m\u001b[0;34m\u001b[0m\u001b[0m\n",
      "\u001b[0;31mTypeError\u001b[0m: 'tuple' object does not support item assignment"
     ]
    }
   ],
   "source": [
    "tuple[1]='update'\n",
    "#this will give you error."
   ]
  },
  {
   "cell_type": "markdown",
   "metadata": {},
   "source": [
    "# End of chapter 2"
   ]
  }
 ],
 "metadata": {
  "kernelspec": {
   "display_name": "Python 3",
   "language": "python",
   "name": "python3"
  },
  "language_info": {
   "codemirror_mode": {
    "name": "ipython",
    "version": 3
   },
   "file_extension": ".py",
   "mimetype": "text/x-python",
   "name": "python",
   "nbconvert_exporter": "python",
   "pygments_lexer": "ipython3",
   "version": "3.8.5"
  }
 },
 "nbformat": 4,
 "nbformat_minor": 4
}
