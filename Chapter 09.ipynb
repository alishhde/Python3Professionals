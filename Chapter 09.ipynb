{
 "cells": [
  {
   "cell_type": "markdown",
   "metadata": {},
   "source": [
    "# Chapter 9: Simple Mathematical Operators\n",
    "\n",
    "Python does common mathematical operators on its own, including integer and float division, multiplication,\n",
    "exponentiation, addition, and subtraction. The math module (included in all standard Python versions) offers\n",
    "expanded functionality like trigonometric functions, root operations, logarithms, and many more."
   ]
  },
  {
   "cell_type": "markdown",
   "metadata": {},
   "source": [
    "# Section 9.1: Division\n",
    "\n",
    "Python does integer division when both operands are integers."
   ]
  },
  {
   "cell_type": "code",
   "execution_count": 3,
   "metadata": {},
   "outputs": [],
   "source": [
    "a, b, c, d, e = 3, 2, 2.0, -3, 10"
   ]
  },
  {
   "cell_type": "markdown",
   "metadata": {},
   "source": [
    "In Python 3 the / operator performs 'true' division regardless of types. The // operator performs floor division and\n",
    "maintains type."
   ]
  },
  {
   "cell_type": "code",
   "execution_count": 5,
   "metadata": {},
   "outputs": [
    {
     "name": "stdout",
     "output_type": "stream",
     "text": [
      "1.5\n",
      "5.0\n",
      "1\n",
      "1.0\n"
     ]
    }
   ],
   "source": [
    "print(a / b)\n",
    "print(e / b)\n",
    "print(a // b)\n",
    "print(a // c)"
   ]
  },
  {
   "cell_type": "code",
   "execution_count": 8,
   "metadata": {},
   "outputs": [
    {
     "name": "stdout",
     "output_type": "stream",
     "text": [
      "1.5\n",
      "1\n",
      "1.0\n"
     ]
    }
   ],
   "source": [
    "import operator\n",
    "print(operator.truediv(a, b))\n",
    "print(operator.floordiv(a, b))\n",
    "print(operator.floordiv(a, c))"
   ]
  },
  {
   "cell_type": "markdown",
   "metadata": {},
   "source": [
    "__Possible combinations (builtin types):__\n",
    "   - int and int (gives an int in Python 2 and a float in Python 3)\n",
    "   - int and float (gives a float )\n",
    "   - int and complex (gives a complex )\n",
    "   - float and float (gives a float )\n",
    "   - float and complex (gives a complex )\n",
    "   - complex and complex (gives a complex )"
   ]
  },
  {
   "cell_type": "markdown",
   "metadata": {},
   "source": [
    "# Section 9.2: Addition"
   ]
  },
  {
   "cell_type": "code",
   "execution_count": 14,
   "metadata": {},
   "outputs": [
    {
     "name": "stdout",
     "output_type": "stream",
     "text": [
      "3\n",
      "3\n",
      "5\n",
      "5\n"
     ]
    }
   ],
   "source": [
    "a, b = 1, 2\n",
    "\n",
    "# Using the \"+\" operator:\n",
    "print(a + b)     # = 3\n",
    "\n",
    "# Using the \"in-place\" \"+=\" operator to add and assign:\n",
    "a += b\n",
    "print(a)         # a = 3 (equivalent to a = a + b)\n",
    "\n",
    "\n",
    "# contains 2 argument arithmetic functions for the examples\n",
    "import operator  \n",
    "\n",
    "# = 5 since a is set to 3 right before this line\n",
    "print(operator.add(a, b)) \n",
    "\n",
    "# The \"+=\" operator is equivalent to:\n",
    "a = operator.iadd(a, b)\n",
    "print(a)   # a = 5 since a is set to 3 right before this line"
   ]
  },
  {
   "cell_type": "markdown",
   "metadata": {},
   "source": [
    "__Possible combinations (builtin types):__\n",
    " - int and int (gives an int )\n",
    " - int and float (gives a float )\n",
    " - int and complex (gives a complex )\n",
    " - float and float (gives a float )\n",
    " - float and complex (gives a complex )\n",
    " - complex and complex (gives a complex )\n",
    " \n",
    " Note: the + operator is also used for concatenating strings, lists and tuples:"
   ]
  },
  {
   "cell_type": "code",
   "execution_count": 18,
   "metadata": {},
   "outputs": [
    {
     "name": "stdout",
     "output_type": "stream",
     "text": [
      "first string second string\n",
      "[1, 2, 3, 4, 5, 6]\n"
     ]
    }
   ],
   "source": [
    "print(\"first string \" + \"second string\" )\n",
    "print([1, 2, 3] + [4, 5, 6]) "
   ]
  },
  {
   "cell_type": "markdown",
   "metadata": {},
   "source": [
    "# Section 9.3: Exponentiation\n"
   ]
  },
  {
   "cell_type": "code",
   "execution_count": 21,
   "metadata": {},
   "outputs": [
    {
     "name": "stdout",
     "output_type": "stream",
     "text": [
      "8\n",
      "8\n",
      "8.0\n",
      "8\n"
     ]
    }
   ],
   "source": [
    "a, b = 2, 3\n",
    "\n",
    "print(a ** b)\n",
    "print(pow(a, b)) # = 8\n",
    "\n",
    "import math\n",
    "# = 8.0 (always float; does not allow complex results)\n",
    "print(math.pow(a, b)) \n",
    "\n",
    "import operator\n",
    "print(operator.pow(a, b)) # = 8"
   ]
  },
  {
   "cell_type": "markdown",
   "metadata": {},
   "source": [
    "Another difference between the built-in pow and math.pow is that the built-in pow can accept three arguments:"
   ]
  },
  {
   "cell_type": "code",
   "execution_count": 22,
   "metadata": {},
   "outputs": [
    {
     "name": "stdout",
     "output_type": "stream",
     "text": [
      "0\n"
     ]
    }
   ],
   "source": [
    "a, b, c = 2, 3, 2\n",
    "\n",
    "print(pow(2, 3, 2))"
   ]
  },
  {
   "cell_type": "markdown",
   "metadata": {},
   "source": [
    "__Special functions__\n",
    "\n",
    "The function math.sqrt(x) calculates the square root of x ."
   ]
  },
  {
   "cell_type": "code",
   "execution_count": 25,
   "metadata": {},
   "outputs": [
    {
     "name": "stdout",
     "output_type": "stream",
     "text": [
      "2.0\n",
      "(2+0j)\n"
     ]
    }
   ],
   "source": [
    "import math\n",
    "import cmath\n",
    "c = 4\n",
    "\n",
    "# = 2.0 (always float; does not allow complex results)\n",
    "print(math.sqrt(c))\n",
    "\n",
    "# = (2+0j) (always complex)\n",
    "print(cmath.sqrt(c))"
   ]
  },
  {
   "cell_type": "markdown",
   "metadata": {},
   "source": [
    "To compute other roots, such as a cube root, raise the number to the reciprocal of the degree of the root. This\n",
    "could be done with any of the exponential functions or operator."
   ]
  },
  {
   "cell_type": "code",
   "execution_count": 27,
   "metadata": {},
   "outputs": [
    {
     "name": "stdout",
     "output_type": "stream",
     "text": [
      "2.0\n",
      "2.0\n"
     ]
    }
   ],
   "source": [
    "import math\n",
    "x = 8\n",
    "print(math.pow(x, 1/3)) # evaluates to 2.0\n",
    "print(x**(1/3)) # evaluates to 2.0"
   ]
  },
  {
   "cell_type": "markdown",
   "metadata": {},
   "source": [
    "The function math.exp(x) computes e ** x ."
   ]
  },
  {
   "cell_type": "code",
   "execution_count": 28,
   "metadata": {},
   "outputs": [
    {
     "data": {
      "text/plain": [
       "2.718281828459045"
      ]
     },
     "execution_count": 28,
     "metadata": {},
     "output_type": "execute_result"
    }
   ],
   "source": [
    "math.exp(0) # 1.0\n",
    "math.exp(1) # 2.718281828459045 (e)"
   ]
  },
  {
   "cell_type": "markdown",
   "metadata": {},
   "source": [
    "The function math.expm1(x) computes e ** x - 1 . When x is small, this gives significantly better precision than\n",
    "math.exp(x) - 1 ."
   ]
  },
  {
   "cell_type": "code",
   "execution_count": 30,
   "metadata": {},
   "outputs": [
    {
     "name": "stdout",
     "output_type": "stream",
     "text": [
      "0.0\n",
      "1.0000004999621837e-06\n",
      "1.0000005000001665e-06\n"
     ]
    }
   ],
   "source": [
    "print(math.expm1(0)) # 0.0\n",
    "\n",
    "print(math.exp(1e-6) - 1) # 1.0000004999621837e-06\n",
    "\n",
    "print(math.expm1(1e-6))   # 1.0000005000001665e-06\n"
   ]
  },
  {
   "cell_type": "markdown",
   "metadata": {},
   "source": [
    "# Section 9.4: Trigonometric Functions"
   ]
  },
  {
   "cell_type": "code",
   "execution_count": 32,
   "metadata": {},
   "outputs": [
    {
     "name": "stdout",
     "output_type": "stream",
     "text": [
      "0.8414709848078965\n",
      "3.7621956910836314\n",
      "1.2626272556789118\n",
      "2.23606797749979\n"
     ]
    }
   ],
   "source": [
    "a, b = 1, 2\n",
    "\n",
    "import math\n",
    "\n",
    "print(math.sin(a)) # returns the sine of 'a' in radians\n",
    "# Out: 0.8414709848078965\n",
    "\n",
    "print(math.cosh(b)) # returns the inverse hyperbolic cosine of 'b' in radians\n",
    "# Out: 3.7621956910836314\n",
    "\n",
    "print(math.atan(math.pi)) # returns the arc tangent of 'pi' in radians\n",
    "# Out: 1.2626272556789115\n",
    "\n",
    "print(math.hypot(a, b)) # returns the Euclidean norm, same as math.sqrt(a*a + b*b)\n",
    "# Out: 2.23606797749979"
   ]
  },
  {
   "cell_type": "markdown",
   "metadata": {},
   "source": [
    "Note that math.hypot(x, y) is also the length of the vector (or Euclidean distance) from the origin (0, 0) to the point (x, y) .\n",
    "\n",
    "To compute the Euclidean distance between two points (x1, y1) & (x2, y2) you can use math.hypot as follows.\n"
   ]
  },
  {
   "cell_type": "raw",
   "metadata": {},
   "source": [
    "math.hypot(x2-x1, y2-y1)"
   ]
  },
  {
   "cell_type": "markdown",
   "metadata": {},
   "source": [
    "To convert from radians -> degrees and degrees -> radians respectively use math.degrees and math.radians"
   ]
  },
  {
   "cell_type": "code",
   "execution_count": 35,
   "metadata": {},
   "outputs": [
    {
     "name": "stdout",
     "output_type": "stream",
     "text": [
      "57.29577951308232\n",
      "1.0\n"
     ]
    }
   ],
   "source": [
    "print(math.degrees(a))\n",
    "# Out: 57.29577951308232\n",
    "\n",
    "print(math.radians(57.29577951308232))\n",
    "# Out: 1.0"
   ]
  },
  {
   "cell_type": "markdown",
   "metadata": {},
   "source": [
    "# Section 9.5: Inplace Operations\n",
    "\n",
    " - -= decrement the variable in place\n",
    " - += increment the variable in place\n",
    " - *= multiply the variable in place\n",
    " - /= divide the variable in place\n",
    " - //= floor divide the variable in place # Python 3\n",
    " - %= return the modulus of the variable in place\n",
    " - **= raise to a power in place\n"
   ]
  },
  {
   "cell_type": "markdown",
   "metadata": {},
   "source": [
    "# Section 9.6: Subtraction"
   ]
  },
  {
   "cell_type": "code",
   "execution_count": 37,
   "metadata": {},
   "outputs": [
    {
     "name": "stdout",
     "output_type": "stream",
     "text": [
      "1\n",
      "1\n"
     ]
    }
   ],
   "source": [
    "a, b = 1, 2\n",
    "# Using the \"-\" operator:\n",
    "print(b - a)\n",
    "\n",
    "import operator\n",
    "print(operator.sub(b, a))"
   ]
  },
  {
   "cell_type": "markdown",
   "metadata": {},
   "source": [
    "Possible combinations (builtin types):\n",
    " - int and int (gives an int )\n",
    " - int and float (gives a float )\n",
    " - int and complex (gives a complex )\n",
    " - float and float (gives a float )\n",
    " - float and complex (gives a complex )\n",
    " - complex and complex (gives a complex )"
   ]
  },
  {
   "cell_type": "markdown",
   "metadata": {},
   "source": [
    "# Section 9.7: Multiplication"
   ]
  },
  {
   "cell_type": "code",
   "execution_count": 40,
   "metadata": {},
   "outputs": [
    {
     "name": "stdout",
     "output_type": "stream",
     "text": [
      "6\n"
     ]
    },
    {
     "data": {
      "text/plain": [
       "6"
      ]
     },
     "execution_count": 40,
     "metadata": {},
     "output_type": "execute_result"
    }
   ],
   "source": [
    "a, b = 2, 3\n",
    "\n",
    "print(a * b) # = 6\n",
    "\n",
    "import operator\n",
    "operator.mul(a, b)"
   ]
  },
  {
   "cell_type": "markdown",
   "metadata": {},
   "source": [
    "__Possible combinations (builtin types):__\n",
    "\n",
    "- int and int (gives an int )\n",
    "- int and float (gives a float )\n",
    "- int and complex (gives a complex )\n",
    "- float and float (gives a float )\n",
    "- float and complex (gives a complex )\n",
    "- complex and complex (gives a complex )\n",
    "\n",
    "__Note: The * operator is also used for repeated concatenation of strings, lists, and tuples:__"
   ]
  },
  {
   "cell_type": "code",
   "execution_count": 42,
   "metadata": {},
   "outputs": [
    {
     "name": "stdout",
     "output_type": "stream",
     "text": [
      "ababab\n",
      "('a', 'b', 'a', 'b', 'a', 'b')\n"
     ]
    }
   ],
   "source": [
    "print(3 * 'ab') # = 'ababab'\n",
    "\n",
    "print(3 * ('a', 'b')) # = ('a', 'b', 'a', 'b', 'a', 'b')"
   ]
  },
  {
   "cell_type": "markdown",
   "metadata": {},
   "source": [
    "# Section 9.8: Logarithms\n",
    "By default, the math.log function calculates the logarithm of a number, base e. You can optionally specify a base as\n",
    "the second argument."
   ]
  },
  {
   "cell_type": "code",
   "execution_count": 45,
   "metadata": {},
   "outputs": [
    {
     "name": "stdout",
     "output_type": "stream",
     "text": [
      "1.6094379124341003\n",
      "1.6094379124341003\n",
      "(1.6094379124341003+0j)\n",
      "2.9999999999999996\n",
      "(2.9999999999999996+0j)\n"
     ]
    }
   ],
   "source": [
    "import math\n",
    "import cmath\n",
    "\n",
    "print(math.log(5))         # = 1.6094379124341003\n",
    "# optional base argument. Default is math.e\n",
    "\n",
    "print(math.log(5, math.e)) # = 1.6094379124341003\n",
    "print(cmath.log(5))        # = (1.6094379124341003+0j)\n",
    "print(math.log(1000, 10))  # 3.0 (always returns float)\n",
    "print(cmath.log(1000, 10)) # (3+0j)"
   ]
  },
  {
   "cell_type": "markdown",
   "metadata": {},
   "source": [
    "Special variations of the math.log function exist for different bases."
   ]
  },
  {
   "cell_type": "code",
   "execution_count": 46,
   "metadata": {},
   "outputs": [
    {
     "name": "stdout",
     "output_type": "stream",
     "text": [
      "1.791759469228055\n",
      "3.0\n",
      "2.0\n",
      "(2+0j)\n"
     ]
    }
   ],
   "source": [
    "# Logarithm base e - 1 (higher precision for low values)\n",
    "print(math.log1p(5))    # = 1.791759469228055\n",
    "\n",
    "# Logarithm base 2\n",
    "print(math.log2(8))     # = 3.0\n",
    "\n",
    "# Logarithm base 10\n",
    "print(math.log10(100))  # = 2.0\n",
    "\n",
    "print(cmath.log10(100)) # = (2+0j)"
   ]
  },
  {
   "cell_type": "markdown",
   "metadata": {},
   "source": [
    "# Section 9.9: Modulus\n",
    "Like in many other languages, Python uses the % operator for calculating modulus."
   ]
  },
  {
   "cell_type": "code",
   "execution_count": 47,
   "metadata": {},
   "outputs": [
    {
     "name": "stdout",
     "output_type": "stream",
     "text": [
      "3\n",
      "0\n",
      "2\n"
     ]
    }
   ],
   "source": [
    "print(3 % 4)     # 3\n",
    "print(10 % 2)    # 0\n",
    "print(6 % 4)     # 2"
   ]
  },
  {
   "cell_type": "markdown",
   "metadata": {},
   "source": [
    "Or by using the operator module:"
   ]
  },
  {
   "cell_type": "code",
   "execution_count": 49,
   "metadata": {},
   "outputs": [
    {
     "name": "stdout",
     "output_type": "stream",
     "text": [
      "3\n",
      "0\n",
      "2\n"
     ]
    }
   ],
   "source": [
    "import operator\n",
    "\n",
    "print(operator.mod(3 , 4))    # 3\n",
    "print(operator.mod(10 , 2))   # 0\n",
    "print(operator.mod(6 , 4))    # 2"
   ]
  },
  {
   "cell_type": "markdown",
   "metadata": {},
   "source": [
    "If you need to find the result of integer division and modulus, you can use the divmod function as a shortcut:"
   ]
  },
  {
   "cell_type": "code",
   "execution_count": 50,
   "metadata": {},
   "outputs": [],
   "source": [
    "quotient, remainder = divmod(9, 4)\n",
    "# quotient = 2, remainder = 1 as 4 * 2 + 1 == 9"
   ]
  },
  {
   "cell_type": "markdown",
   "metadata": {},
   "source": [
    "# End of chapter 9"
   ]
  }
 ],
 "metadata": {
  "kernelspec": {
   "display_name": "Python 3",
   "language": "python",
   "name": "python3"
  },
  "language_info": {
   "codemirror_mode": {
    "name": "ipython",
    "version": 3
   },
   "file_extension": ".py",
   "mimetype": "text/x-python",
   "name": "python",
   "nbconvert_exporter": "python",
   "pygments_lexer": "ipython3",
   "version": "3.8.5"
  }
 },
 "nbformat": 4,
 "nbformat_minor": 4
}
