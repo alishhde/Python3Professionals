{
 "cells": [
  {
   "cell_type": "markdown",
   "metadata": {},
   "source": [
    "# Chapter 12: Operator Precedence\n",
    "Python operators have a set order of precedence, which determines what operators are evaluated first in a potentially ambiguous expression. For instance, in the expression 3 * 2 + 7, first 3 is multiplied by 2, and then the result is added to 7, yielding 13. The expression is not evaluated the other way around, because * has a higher precedence than +.\n",
    "\n",
    "Below is a list of operators by precedence, and a brief description of what they (usually) do."
   ]
  },
  {
   "cell_type": "markdown",
   "metadata": {},
   "source": [
    "# Section 12.1: Simple Operator Precedence Examples in python\n",
    "Python follows PEMDAS rule. PEMDAS stands for Parentheses, Exponents, Multiplication and Division, and Addition\n",
    "and Subtraction.\n",
    "\n",
    "Example:"
   ]
  },
  {
   "cell_type": "code",
   "execution_count": 2,
   "metadata": {},
   "outputs": [
    {
     "name": "stdout",
     "output_type": "stream",
     "text": [
      "256\n",
      "486\n",
      "4.142857142857142\n"
     ]
    }
   ],
   "source": [
    "a, b, c, d = 2, 3, 5, 7\n",
    "print(a ** (b + c))     # parentheses\n",
    "\n",
    "print(a * b ** c) # exponent: same as `a * (b ** c)`\n",
    "\n",
    "print(a + b * c / d) \n",
    "# multiplication / division: same as `a + (b * c / d)`"
   ]
  },
  {
   "cell_type": "markdown",
   "metadata": {},
   "source": [
    "Extras: mathematical rules hold, but not always:"
   ]
  },
  {
   "cell_type": "code",
   "execution_count": 4,
   "metadata": {},
   "outputs": [
    {
     "name": "stdout",
     "output_type": "stream",
     "text": [
      "200.0\n",
      "200.0\n",
      "1e+200\n",
      "inf\n"
     ]
    }
   ],
   "source": [
    "print(300 / 300 * 200)\n",
    "\n",
    "print(300 * 200 / 300)\n",
    "\n",
    "print(1e300 / 1e300 * 1e200)\n",
    "\n",
    "print(1e300 * 1e200 / 1e300)"
   ]
  },
  {
   "cell_type": "markdown",
   "metadata": {},
   "source": [
    "# End of chapter 12"
   ]
  }
 ],
 "metadata": {
  "kernelspec": {
   "display_name": "Python 3",
   "language": "python",
   "name": "python3"
  },
  "language_info": {
   "codemirror_mode": {
    "name": "ipython",
    "version": 3
   },
   "file_extension": ".py",
   "mimetype": "text/x-python",
   "name": "python",
   "nbconvert_exporter": "python",
   "pygments_lexer": "ipython3",
   "version": "3.8.5"
  }
 },
 "nbformat": 4,
 "nbformat_minor": 4
}
