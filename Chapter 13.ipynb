{
 "cells": [
  {
   "cell_type": "markdown",
   "metadata": {},
   "source": [
    "# Chapter 13: Variable Scope and Binding"
   ]
  },
  {
   "cell_type": "markdown",
   "metadata": {},
   "source": [
    "# Section 13.1: Nonlocal Variables\n",
    "Python 3 added a new keyword called nonlocal. The nonlocal keyword adds a scope override to the inner scope. One of the most\n",
    "common examples is to create function that can increment:"
   ]
  },
  {
   "cell_type": "code",
   "execution_count": 5,
   "metadata": {},
   "outputs": [
    {
     "name": "stdout",
     "output_type": "stream",
     "text": [
      "1\n",
      "2\n",
      "3\n"
     ]
    }
   ],
   "source": [
    "def counter():\n",
    "    num = 0\n",
    "    def incrementer():\n",
    "        nonlocal num\n",
    "        num += 1\n",
    "        return num\n",
    "    return incrementer\n",
    "\n",
    "c = counter()\n",
    "print(c())\n",
    "print(c())\n",
    "print(c())"
   ]
  },
  {
   "cell_type": "markdown",
   "metadata": {},
   "source": [
    "Basically nonlocal will allow you to assign to variables in an outer scope, but not a global scope. So you can't use\n",
    "nonlocal in our counter function because then it would try to assign to a global scope. Give it a try and you will\n",
    "quickly get a SyntaxError . Instead you must use nonlocal in a nested function.\n",
    "(Note that the functionality presented here is better implemented using generators.)"
   ]
  },
  {
   "cell_type": "markdown",
   "metadata": {},
   "source": [
    "# Section 13.2: Global Variables\n",
    "In Python, variables inside functions are considered local if and only if they appear in the left side of an assignment\n",
    "statement, or some other binding occurrence; otherwise such a binding is looked up in enclosing functions, up to\n",
    "the global scope. This is true even if the assignment statement is never executed."
   ]
  },
  {
   "cell_type": "code",
   "execution_count": 6,
   "metadata": {},
   "outputs": [
    {
     "name": "stdout",
     "output_type": "stream",
     "text": [
      "Hi\n"
     ]
    },
    {
     "ename": "NameError",
     "evalue": "name 'y' is not defined",
     "output_type": "error",
     "traceback": [
      "\u001b[0;31m---------------------------------------------------------------------------\u001b[0m",
      "\u001b[0;31mNameError\u001b[0m                                 Traceback (most recent call last)",
      "\u001b[0;32m<ipython-input-6-57d9dbbacfb5>\u001b[0m in \u001b[0;36m<module>\u001b[0;34m\u001b[0m\n\u001b[1;32m      9\u001b[0m     \u001b[0mprint\u001b[0m\u001b[0;34m(\u001b[0m\u001b[0my\u001b[0m\u001b[0;34m)\u001b[0m\u001b[0;34m\u001b[0m\u001b[0;34m\u001b[0m\u001b[0m\n\u001b[1;32m     10\u001b[0m \u001b[0;34m\u001b[0m\u001b[0m\n\u001b[0;32m---> 11\u001b[0;31m \u001b[0mread_y\u001b[0m\u001b[0;34m(\u001b[0m\u001b[0;34m)\u001b[0m \u001b[0;31m# NameError: global name 'y' is not defined\u001b[0m\u001b[0;34m\u001b[0m\u001b[0;34m\u001b[0m\u001b[0m\n\u001b[0m",
      "\u001b[0;32m<ipython-input-6-57d9dbbacfb5>\u001b[0m in \u001b[0;36mread_y\u001b[0;34m()\u001b[0m\n\u001b[1;32m      7\u001b[0m \u001b[0;34m\u001b[0m\u001b[0m\n\u001b[1;32m      8\u001b[0m \u001b[0;32mdef\u001b[0m \u001b[0mread_y\u001b[0m\u001b[0;34m(\u001b[0m\u001b[0;34m)\u001b[0m\u001b[0;34m:\u001b[0m\u001b[0;34m\u001b[0m\u001b[0;34m\u001b[0m\u001b[0m\n\u001b[0;32m----> 9\u001b[0;31m     \u001b[0mprint\u001b[0m\u001b[0;34m(\u001b[0m\u001b[0my\u001b[0m\u001b[0;34m)\u001b[0m\u001b[0;34m\u001b[0m\u001b[0;34m\u001b[0m\u001b[0m\n\u001b[0m\u001b[1;32m     10\u001b[0m \u001b[0;34m\u001b[0m\u001b[0m\n\u001b[1;32m     11\u001b[0m \u001b[0mread_y\u001b[0m\u001b[0;34m(\u001b[0m\u001b[0;34m)\u001b[0m \u001b[0;31m# NameError: global name 'y' is not defined\u001b[0m\u001b[0;34m\u001b[0m\u001b[0;34m\u001b[0m\u001b[0m\n",
      "\u001b[0;31mNameError\u001b[0m: name 'y' is not defined"
     ]
    }
   ],
   "source": [
    "x = 'Hi'\n",
    "\n",
    "def read_x():\n",
    "    print(x) \n",
    "\n",
    "read_x() \n",
    "\n",
    "def read_y():\n",
    "    print(y) \n",
    "    \n",
    "read_y() # NameError: global name 'y' is not defined\n"
   ]
  },
  {
   "cell_type": "code",
   "execution_count": 10,
   "metadata": {},
   "outputs": [
    {
     "name": "stdout",
     "output_type": "stream",
     "text": [
      "Hey\n"
     ]
    }
   ],
   "source": [
    "def read_y():\n",
    "    y = 'Hey'\n",
    "    print(y)\n",
    "    \n",
    "read_y()"
   ]
  },
  {
   "cell_type": "code",
   "execution_count": 12,
   "metadata": {},
   "outputs": [
    {
     "ename": "UnboundLocalError",
     "evalue": "local variable 'x' referenced before assignment",
     "output_type": "error",
     "traceback": [
      "\u001b[0;31m---------------------------------------------------------------------------\u001b[0m",
      "\u001b[0;31mUnboundLocalError\u001b[0m                         Traceback (most recent call last)",
      "\u001b[0;32m<ipython-input-12-f78639272e67>\u001b[0m in \u001b[0;36m<module>\u001b[0;34m\u001b[0m\n\u001b[1;32m      4\u001b[0m     \u001b[0mprint\u001b[0m\u001b[0;34m(\u001b[0m\u001b[0mx\u001b[0m\u001b[0;34m)\u001b[0m\u001b[0;34m\u001b[0m\u001b[0;34m\u001b[0m\u001b[0m\n\u001b[1;32m      5\u001b[0m \u001b[0;34m\u001b[0m\u001b[0m\n\u001b[0;32m----> 6\u001b[0;31m \u001b[0mread_x_local_fail\u001b[0m\u001b[0;34m(\u001b[0m\u001b[0;34m)\u001b[0m\u001b[0;34m\u001b[0m\u001b[0;34m\u001b[0m\u001b[0m\n\u001b[0m\u001b[1;32m      7\u001b[0m \u001b[0;31m# UnboundLocalError: local\u001b[0m\u001b[0;34m\u001b[0m\u001b[0;34m\u001b[0m\u001b[0;34m\u001b[0m\u001b[0m\n\u001b[1;32m      8\u001b[0m \u001b[0;31m# variable 'x' referenced before assignment\u001b[0m\u001b[0;34m\u001b[0m\u001b[0;34m\u001b[0m\u001b[0;34m\u001b[0m\u001b[0m\n",
      "\u001b[0;32m<ipython-input-12-f78639272e67>\u001b[0m in \u001b[0;36mread_x_local_fail\u001b[0;34m()\u001b[0m\n\u001b[1;32m      2\u001b[0m     \u001b[0;32mif\u001b[0m \u001b[0;32mFalse\u001b[0m\u001b[0;34m:\u001b[0m\u001b[0;34m\u001b[0m\u001b[0;34m\u001b[0m\u001b[0m\n\u001b[1;32m      3\u001b[0m         \u001b[0mx\u001b[0m \u001b[0;34m=\u001b[0m \u001b[0;34m'Hey'\u001b[0m\u001b[0;34m\u001b[0m\u001b[0;34m\u001b[0m\u001b[0m\n\u001b[0;32m----> 4\u001b[0;31m     \u001b[0mprint\u001b[0m\u001b[0;34m(\u001b[0m\u001b[0mx\u001b[0m\u001b[0;34m)\u001b[0m\u001b[0;34m\u001b[0m\u001b[0;34m\u001b[0m\u001b[0m\n\u001b[0m\u001b[1;32m      5\u001b[0m \u001b[0;34m\u001b[0m\u001b[0m\n\u001b[1;32m      6\u001b[0m \u001b[0mread_x_local_fail\u001b[0m\u001b[0;34m(\u001b[0m\u001b[0;34m)\u001b[0m\u001b[0;34m\u001b[0m\u001b[0;34m\u001b[0m\u001b[0m\n",
      "\u001b[0;31mUnboundLocalError\u001b[0m: local variable 'x' referenced before assignment"
     ]
    }
   ],
   "source": [
    "def read_x_local_fail():\n",
    "    if False:\n",
    "        x = 'Hey'\n",
    "    print(x)\n",
    "\n",
    "read_x_local_fail() \n",
    "# UnboundLocalError: local \n",
    "# variable 'x' referenced before assignment"
   ]
  },
  {
   "cell_type": "markdown",
   "metadata": {},
   "source": [
    "Normally, an assignment inside a scope will shadow any outer variables of the same name:"
   ]
  },
  {
   "cell_type": "code",
   "execution_count": 14,
   "metadata": {},
   "outputs": [
    {
     "name": "stdout",
     "output_type": "stream",
     "text": [
      "Bye\n",
      "Hi\n"
     ]
    }
   ],
   "source": [
    "x = 'Hi'\n",
    "\n",
    "def change_local_x():\n",
    "    x = 'Bye'\n",
    "    print(x)\n",
    "    \n",
    "change_local_x() # prints Bye\n",
    "print(x) # prints Hi"
   ]
  },
  {
   "cell_type": "markdown",
   "metadata": {},
   "source": [
    "Declaring a name global means that, for the rest of the scope, any assignments to the name will happen at the\n",
    "module's top level:"
   ]
  },
  {
   "cell_type": "code",
   "execution_count": 16,
   "metadata": {},
   "outputs": [
    {
     "name": "stdout",
     "output_type": "stream",
     "text": [
      "Bye\n",
      "Bye\n"
     ]
    }
   ],
   "source": [
    "x = 'Hi'\n",
    "def change_global_x():\n",
    "    global x\n",
    "    x = 'Bye'\n",
    "    print(x)\n",
    "    \n",
    "change_global_x() # prints Bye\n",
    "print(x) # prints Bye"
   ]
  },
  {
   "cell_type": "markdown",
   "metadata": {},
   "source": [
    "The global keyword means that assignments will happen at the module's top level, not at the program's top level.\n",
    "Other modules will still need the usual dotted access to variables within the module.\n",
    "\n",
    "To summarize: in order to know whether a variable x is local to a function, you should read the entire function:\n",
    "\n",
    "    1. if you've found global x , then x is a global variable\n",
    "    2. If you've found nonlocal x , then x belongs to an enclosing function, and is neither local nor global\n",
    "    3. If you've found x = 5 or for x in range(3) or some other binding, then x is a local variable\n",
    "    4. Otherwise x belongs to some enclosing scope (function scope, global scope, or builtins)"
   ]
  },
  {
   "cell_type": "markdown",
   "metadata": {},
   "source": [
    "# Section 13.3: Local Variables\n",
    "If a name is bound inside a function, it is by default accessible only within the function:"
   ]
  },
  {
   "cell_type": "code",
   "execution_count": 18,
   "metadata": {},
   "outputs": [
    {
     "ename": "NameError",
     "evalue": "name 'a' is not defined",
     "output_type": "error",
     "traceback": [
      "\u001b[0;31m---------------------------------------------------------------------------\u001b[0m",
      "\u001b[0;31mNameError\u001b[0m                                 Traceback (most recent call last)",
      "\u001b[0;32m<ipython-input-18-026c9cc1e300>\u001b[0m in \u001b[0;36m<module>\u001b[0;34m\u001b[0m\n\u001b[1;32m      2\u001b[0m     \u001b[0ma\u001b[0m \u001b[0;34m=\u001b[0m \u001b[0;36m5\u001b[0m\u001b[0;34m\u001b[0m\u001b[0;34m\u001b[0m\u001b[0m\n\u001b[1;32m      3\u001b[0m     \u001b[0mprint\u001b[0m\u001b[0;34m(\u001b[0m\u001b[0ma\u001b[0m\u001b[0;34m)\u001b[0m \u001b[0;31m# ok\u001b[0m\u001b[0;34m\u001b[0m\u001b[0;34m\u001b[0m\u001b[0m\n\u001b[0;32m----> 4\u001b[0;31m \u001b[0mprint\u001b[0m\u001b[0;34m(\u001b[0m\u001b[0ma\u001b[0m\u001b[0;34m)\u001b[0m \u001b[0;31m# NameError: name 'a' is not defined\u001b[0m\u001b[0;34m\u001b[0m\u001b[0;34m\u001b[0m\u001b[0m\n\u001b[0m",
      "\u001b[0;31mNameError\u001b[0m: name 'a' is not defined"
     ]
    }
   ],
   "source": [
    "def foo():\n",
    "    a = 5\n",
    "    print(a) # ok\n",
    "print(a) # NameError: name 'a' is not defined"
   ]
  },
  {
   "cell_type": "markdown",
   "metadata": {},
   "source": [
    "Control flow constructs have no impact on the scope (with the exception of except ), but accessing variable that was\n",
    "not assigned yet is an error:"
   ]
  },
  {
   "cell_type": "code",
   "execution_count": 22,
   "metadata": {},
   "outputs": [
    {
     "ename": "UnboundLocalError",
     "evalue": "local variable 'b' referenced before assignment",
     "output_type": "error",
     "traceback": [
      "\u001b[0;31m---------------------------------------------------------------------------\u001b[0m",
      "\u001b[0;31mUnboundLocalError\u001b[0m                         Traceback (most recent call last)",
      "\u001b[0;32m<ipython-input-22-4c5348fd727b>\u001b[0m in \u001b[0;36m<module>\u001b[0;34m\u001b[0m\n\u001b[1;32m     10\u001b[0m     \u001b[0mprint\u001b[0m\u001b[0;34m(\u001b[0m\u001b[0mb\u001b[0m\u001b[0;34m)\u001b[0m\u001b[0;34m\u001b[0m\u001b[0;34m\u001b[0m\u001b[0m\n\u001b[1;32m     11\u001b[0m \u001b[0;34m\u001b[0m\u001b[0m\n\u001b[0;32m---> 12\u001b[0;31m \u001b[0mbar\u001b[0m\u001b[0;34m(\u001b[0m\u001b[0;34m)\u001b[0m\u001b[0;34m\u001b[0m\u001b[0;34m\u001b[0m\u001b[0m\n\u001b[0m\u001b[1;32m     13\u001b[0m \u001b[0;31m# UnboundLocalError: local variable 'b'\u001b[0m\u001b[0;34m\u001b[0m\u001b[0;34m\u001b[0m\u001b[0;34m\u001b[0m\u001b[0m\n\u001b[1;32m     14\u001b[0m \u001b[0;31m# referenced before assignment\u001b[0m\u001b[0;34m\u001b[0m\u001b[0;34m\u001b[0m\u001b[0;34m\u001b[0m\u001b[0m\n",
      "\u001b[0;32m<ipython-input-22-4c5348fd727b>\u001b[0m in \u001b[0;36mbar\u001b[0;34m()\u001b[0m\n\u001b[1;32m      8\u001b[0m     \u001b[0;32mif\u001b[0m \u001b[0;32mFalse\u001b[0m\u001b[0;34m:\u001b[0m\u001b[0;34m\u001b[0m\u001b[0;34m\u001b[0m\u001b[0m\n\u001b[1;32m      9\u001b[0m         \u001b[0mb\u001b[0m \u001b[0;34m=\u001b[0m \u001b[0;36m5\u001b[0m\u001b[0;34m\u001b[0m\u001b[0;34m\u001b[0m\u001b[0m\n\u001b[0;32m---> 10\u001b[0;31m     \u001b[0mprint\u001b[0m\u001b[0;34m(\u001b[0m\u001b[0mb\u001b[0m\u001b[0;34m)\u001b[0m\u001b[0;34m\u001b[0m\u001b[0;34m\u001b[0m\u001b[0m\n\u001b[0m\u001b[1;32m     11\u001b[0m \u001b[0;34m\u001b[0m\u001b[0m\n\u001b[1;32m     12\u001b[0m \u001b[0mbar\u001b[0m\u001b[0;34m(\u001b[0m\u001b[0;34m)\u001b[0m\u001b[0;34m\u001b[0m\u001b[0;34m\u001b[0m\u001b[0m\n",
      "\u001b[0;31mUnboundLocalError\u001b[0m: local variable 'b' referenced before assignment"
     ]
    }
   ],
   "source": [
    "def foo():\n",
    "    if True:\n",
    "        a = 5\n",
    "    print(a) # ok\n",
    "    \n",
    "b = 3\n",
    "def bar():\n",
    "    if False:\n",
    "        b = 5\n",
    "    print(b) \n",
    "    \n",
    "bar()\n",
    "# UnboundLocalError: local variable 'b' \n",
    "# referenced before assignment"
   ]
  },
  {
   "cell_type": "markdown",
   "metadata": {},
   "source": [
    "Common binding operations are assignments, for loops, and augmented assignments such as a += 5"
   ]
  },
  {
   "cell_type": "markdown",
   "metadata": {},
   "source": [
    "# Section 13.4: The del command\n",
    "This command has several related yet distinct forms.\n",
    "\n",
    "__del v__\n",
    "\n",
    "If v is a variable, the command __del__ v removes the variable from its scope. For example:"
   ]
  },
  {
   "cell_type": "code",
   "execution_count": 24,
   "metadata": {},
   "outputs": [
    {
     "name": "stdout",
     "output_type": "stream",
     "text": [
      "5\n"
     ]
    },
    {
     "ename": "NameError",
     "evalue": "name 'x' is not defined",
     "output_type": "error",
     "traceback": [
      "\u001b[0;31m---------------------------------------------------------------------------\u001b[0m",
      "\u001b[0;31mNameError\u001b[0m                                 Traceback (most recent call last)",
      "\u001b[0;32m<ipython-input-24-cea3a87e2d8b>\u001b[0m in \u001b[0;36m<module>\u001b[0;34m\u001b[0m\n\u001b[1;32m      4\u001b[0m \u001b[0;32mdel\u001b[0m \u001b[0mx\u001b[0m\u001b[0;34m\u001b[0m\u001b[0;34m\u001b[0m\u001b[0m\n\u001b[1;32m      5\u001b[0m \u001b[0;34m\u001b[0m\u001b[0m\n\u001b[0;32m----> 6\u001b[0;31m \u001b[0mprint\u001b[0m\u001b[0;34m(\u001b[0m\u001b[0mx\u001b[0m\u001b[0;34m)\u001b[0m \u001b[0;31m# NameError: name 'f' is not defined\u001b[0m\u001b[0;34m\u001b[0m\u001b[0;34m\u001b[0m\u001b[0m\n\u001b[0m",
      "\u001b[0;31mNameError\u001b[0m: name 'x' is not defined"
     ]
    }
   ],
   "source": [
    "x = 5\n",
    "print(x) # out: 5\n",
    "\n",
    "del x\n",
    "\n",
    "print(x) # NameError: name 'f' is not defined"
   ]
  },
  {
   "cell_type": "markdown",
   "metadata": {},
   "source": [
    "__Note that del is a binding occurrence, which means that unless explicitly stated otherwise (using nonlocal\n",
    "or global ), del v will make v local to the current scope. If you intend to delete v in an outer scope, use\n",
    "nonlocal v or global v in the same scope of the del v statement.__\n",
    "\n",
    "In all the following, the intention of a command is a default behavior but is not enforced by the language. A class\n",
    "might be written in a way that invalidates this intention.\n",
    "\n",
    "del v.name\n",
    "\n",
    "This command triggers a call to v.\\__delattr__(name).\n",
    "\n",
    "The intention is to make the attribute name unavailable. For example:"
   ]
  },
  {
   "cell_type": "code",
   "execution_count": 26,
   "metadata": {},
   "outputs": [
    {
     "name": "stdout",
     "output_type": "stream",
     "text": [
      "7\n"
     ]
    },
    {
     "ename": "AttributeError",
     "evalue": "'A' object has no attribute 'x'",
     "output_type": "error",
     "traceback": [
      "\u001b[0;31m---------------------------------------------------------------------------\u001b[0m",
      "\u001b[0;31mAttributeError\u001b[0m                            Traceback (most recent call last)",
      "\u001b[0;32m<ipython-input-26-b6554486fbe8>\u001b[0m in \u001b[0;36m<module>\u001b[0;34m\u001b[0m\n\u001b[1;32m      8\u001b[0m \u001b[0;32mdel\u001b[0m \u001b[0ma\u001b[0m\u001b[0;34m.\u001b[0m\u001b[0mx\u001b[0m\u001b[0;34m\u001b[0m\u001b[0;34m\u001b[0m\u001b[0m\n\u001b[1;32m      9\u001b[0m \u001b[0;34m\u001b[0m\u001b[0m\n\u001b[0;32m---> 10\u001b[0;31m \u001b[0mprint\u001b[0m\u001b[0;34m(\u001b[0m\u001b[0ma\u001b[0m\u001b[0;34m.\u001b[0m\u001b[0mx\u001b[0m\u001b[0;34m)\u001b[0m \u001b[0;31m# error: AttributeError: 'A' object has no attribute 'x'\u001b[0m\u001b[0;34m\u001b[0m\u001b[0;34m\u001b[0m\u001b[0m\n\u001b[0m\u001b[1;32m     11\u001b[0m \u001b[0;32mdel\u001b[0m \u001b[0mv\u001b[0m\u001b[0;34m[\u001b[0m\u001b[0mitem\u001b[0m\u001b[0;34m]\u001b[0m\u001b[0;34m\u001b[0m\u001b[0;34m\u001b[0m\u001b[0m\n",
      "\u001b[0;31mAttributeError\u001b[0m: 'A' object has no attribute 'x'"
     ]
    }
   ],
   "source": [
    "class A:\n",
    "    pass\n",
    "\n",
    "a = A()\n",
    "a.x = 7\n",
    "print(a.x) # out: 7\n",
    "\n",
    "del a.x\n",
    "\n",
    "print(a.x) # error: AttributeError: 'A' object has no attribute 'x'\n",
    "del v[item]"
   ]
  },
  {
   "cell_type": "markdown",
   "metadata": {},
   "source": [
    "This command triggers a call to v.\\__delitem__(item) .\n",
    "\n",
    "The intention is that item will not belong in the mapping implemented by the object v . For example:"
   ]
  },
  {
   "cell_type": "code",
   "execution_count": 31,
   "metadata": {},
   "outputs": [
    {
     "name": "stdout",
     "output_type": "stream",
     "text": [
      "{'b': 2}\n"
     ]
    },
    {
     "ename": "KeyError",
     "evalue": "'a'",
     "output_type": "error",
     "traceback": [
      "\u001b[0;31m---------------------------------------------------------------------------\u001b[0m",
      "\u001b[0;31mKeyError\u001b[0m                                  Traceback (most recent call last)",
      "\u001b[0;32m<ipython-input-31-76f8ab3937ce>\u001b[0m in \u001b[0;36m<module>\u001b[0;34m\u001b[0m\n\u001b[1;32m      3\u001b[0m \u001b[0;34m\u001b[0m\u001b[0m\n\u001b[1;32m      4\u001b[0m \u001b[0mprint\u001b[0m\u001b[0;34m(\u001b[0m\u001b[0mx\u001b[0m\u001b[0;34m)\u001b[0m \u001b[0;31m# out: {'b': 2}\u001b[0m\u001b[0;34m\u001b[0m\u001b[0;34m\u001b[0m\u001b[0m\n\u001b[0;32m----> 5\u001b[0;31m \u001b[0mprint\u001b[0m\u001b[0;34m(\u001b[0m\u001b[0mx\u001b[0m\u001b[0;34m[\u001b[0m\u001b[0;34m'a'\u001b[0m\u001b[0;34m]\u001b[0m\u001b[0;34m)\u001b[0m \u001b[0;31m# error: KeyError: 'a'\u001b[0m\u001b[0;34m\u001b[0m\u001b[0;34m\u001b[0m\u001b[0m\n\u001b[0m\u001b[1;32m      6\u001b[0m \u001b[0;32mdel\u001b[0m \u001b[0mv\u001b[0m\u001b[0;34m[\u001b[0m\u001b[0ma\u001b[0m\u001b[0;34m:\u001b[0m\u001b[0mb\u001b[0m\u001b[0;34m]\u001b[0m\u001b[0;34m\u001b[0m\u001b[0;34m\u001b[0m\u001b[0m\n",
      "\u001b[0;31mKeyError\u001b[0m: 'a'"
     ]
    }
   ],
   "source": [
    "x = {'a': 1, 'b': 2}\n",
    "del x['a']\n",
    "\n",
    "print(x) # out: {'b': 2}\n",
    "print(x['a']) # error: KeyError: 'a'\n",
    "del v[a:b]"
   ]
  },
  {
   "cell_type": "markdown",
   "metadata": {},
   "source": [
    "This actually calls v.\\__delslice__(a, b) .\n",
    "\n",
    "The intention is similar to the one described above, but with slices - ranges of items instead of a single item. For\n",
    "example:"
   ]
  },
  {
   "cell_type": "code",
   "execution_count": 33,
   "metadata": {},
   "outputs": [
    {
     "name": "stdout",
     "output_type": "stream",
     "text": [
      "[0, 3, 4]\n"
     ]
    }
   ],
   "source": [
    "x = [0, 1, 2, 3, 4]\n",
    "del x[1:3]\n",
    "print(x) # out: [0, 3, 4]"
   ]
  },
  {
   "cell_type": "markdown",
   "metadata": {},
   "source": [
    "# Section 13.5: Functions skip class scope when looking up names\n",
    "\n",
    "Classes have a local scope during definition, but functions inside the class do not use that scope when looking up\n",
    "names. Because lambdas are functions, and comprehensions are implemented using function scope, this can lead\n",
    "to some surprising behavior."
   ]
  },
  {
   "cell_type": "code",
   "execution_count": 35,
   "metadata": {},
   "outputs": [
    {
     "name": "stdout",
     "output_type": "stream",
     "text": [
      "class\n",
      "global\n",
      "global\n",
      "class\n",
      "global\n",
      "class\n",
      "global\n"
     ]
    }
   ],
   "source": [
    "a = 'global'\n",
    "class Fred:\n",
    "    a = 'class' # class scope\n",
    "    b = (a for i in range(10)) # function scope\n",
    "    c = [a for i in range(10)] # function scope\n",
    "    d = a # class scope\n",
    "    e = lambda: a # function scope\n",
    "    f = lambda a=a: a # default argument uses class scope\n",
    "\n",
    "    @staticmethod # or @classmethod, or regular instance method\n",
    "    def g(): # function scope\n",
    "        return a\n",
    "    \n",
    "print(Fred.a) # class\n",
    "print(next(Fred.b)) # global\n",
    "print(Fred.c[0]) # class in Python 2, global in Python 3\n",
    "print(Fred.d) # class\n",
    "print(Fred.e()) # global\n",
    "print(Fred.f()) # class\n",
    "print(Fred.g()) # global"
   ]
  },
  {
   "cell_type": "markdown",
   "metadata": {},
   "source": [
    "Users unfamiliar with how this scope works might expect b , c , and e to print class.\n",
    "\n",
    "__From PEP 227:__\n",
    "\n",
    "    Names in class scope are not accessible. Names are resolved in the innermost enclosing function scope. If a class definition occurs in a chain of nested scopes, the resolution process skips class definitions.\n",
    "\n",
    "__From Python's documentation on naming and binding:__\n",
    "    \n",
    "    The scope of names defined in a class block is limited to the class block; it does not extend to the code blocks of methods – this includes comprehensions and generator expressions since they are implemented using a function scope. This means that the following will fail:"
   ]
  },
  {
   "cell_type": "code",
   "execution_count": 39,
   "metadata": {},
   "outputs": [
    {
     "ename": "TypeError",
     "evalue": "can only concatenate str (not \"int\") to str",
     "output_type": "error",
     "traceback": [
      "\u001b[0;31m---------------------------------------------------------------------------\u001b[0m",
      "\u001b[0;31mTypeError\u001b[0m                                 Traceback (most recent call last)",
      "\u001b[0;32m<ipython-input-39-2bc0d05fe3c9>\u001b[0m in \u001b[0;36m<module>\u001b[0;34m\u001b[0m\n\u001b[0;32m----> 1\u001b[0;31m \u001b[0;32mclass\u001b[0m \u001b[0mA\u001b[0m\u001b[0;34m:\u001b[0m\u001b[0;34m\u001b[0m\u001b[0;34m\u001b[0m\u001b[0m\n\u001b[0m\u001b[1;32m      2\u001b[0m     \u001b[0ma\u001b[0m \u001b[0;34m=\u001b[0m \u001b[0;36m42\u001b[0m\u001b[0;34m\u001b[0m\u001b[0;34m\u001b[0m\u001b[0m\n\u001b[1;32m      3\u001b[0m     \u001b[0mb\u001b[0m \u001b[0;34m=\u001b[0m \u001b[0mlist\u001b[0m\u001b[0;34m(\u001b[0m\u001b[0ma\u001b[0m \u001b[0;34m+\u001b[0m \u001b[0mint\u001b[0m\u001b[0;34m(\u001b[0m\u001b[0mi\u001b[0m\u001b[0;34m)\u001b[0m \u001b[0;32mfor\u001b[0m \u001b[0mi\u001b[0m \u001b[0;32min\u001b[0m \u001b[0mrange\u001b[0m\u001b[0;34m(\u001b[0m\u001b[0;36m10\u001b[0m\u001b[0;34m)\u001b[0m\u001b[0;34m)\u001b[0m\u001b[0;34m\u001b[0m\u001b[0;34m\u001b[0m\u001b[0m\n",
      "\u001b[0;32m<ipython-input-39-2bc0d05fe3c9>\u001b[0m in \u001b[0;36mA\u001b[0;34m()\u001b[0m\n\u001b[1;32m      1\u001b[0m \u001b[0;32mclass\u001b[0m \u001b[0mA\u001b[0m\u001b[0;34m:\u001b[0m\u001b[0;34m\u001b[0m\u001b[0;34m\u001b[0m\u001b[0m\n\u001b[1;32m      2\u001b[0m     \u001b[0ma\u001b[0m \u001b[0;34m=\u001b[0m \u001b[0;36m42\u001b[0m\u001b[0;34m\u001b[0m\u001b[0;34m\u001b[0m\u001b[0m\n\u001b[0;32m----> 3\u001b[0;31m     \u001b[0mb\u001b[0m \u001b[0;34m=\u001b[0m \u001b[0mlist\u001b[0m\u001b[0;34m(\u001b[0m\u001b[0ma\u001b[0m \u001b[0;34m+\u001b[0m \u001b[0mint\u001b[0m\u001b[0;34m(\u001b[0m\u001b[0mi\u001b[0m\u001b[0;34m)\u001b[0m \u001b[0;32mfor\u001b[0m \u001b[0mi\u001b[0m \u001b[0;32min\u001b[0m \u001b[0mrange\u001b[0m\u001b[0;34m(\u001b[0m\u001b[0;36m10\u001b[0m\u001b[0;34m)\u001b[0m\u001b[0;34m)\u001b[0m\u001b[0;34m\u001b[0m\u001b[0;34m\u001b[0m\u001b[0m\n\u001b[0m",
      "\u001b[0;32m<ipython-input-39-2bc0d05fe3c9>\u001b[0m in \u001b[0;36m<genexpr>\u001b[0;34m(.0)\u001b[0m\n\u001b[1;32m      1\u001b[0m \u001b[0;32mclass\u001b[0m \u001b[0mA\u001b[0m\u001b[0;34m:\u001b[0m\u001b[0;34m\u001b[0m\u001b[0;34m\u001b[0m\u001b[0m\n\u001b[1;32m      2\u001b[0m     \u001b[0ma\u001b[0m \u001b[0;34m=\u001b[0m \u001b[0;36m42\u001b[0m\u001b[0;34m\u001b[0m\u001b[0;34m\u001b[0m\u001b[0m\n\u001b[0;32m----> 3\u001b[0;31m     \u001b[0mb\u001b[0m \u001b[0;34m=\u001b[0m \u001b[0mlist\u001b[0m\u001b[0;34m(\u001b[0m\u001b[0ma\u001b[0m \u001b[0;34m+\u001b[0m \u001b[0mint\u001b[0m\u001b[0;34m(\u001b[0m\u001b[0mi\u001b[0m\u001b[0;34m)\u001b[0m \u001b[0;32mfor\u001b[0m \u001b[0mi\u001b[0m \u001b[0;32min\u001b[0m \u001b[0mrange\u001b[0m\u001b[0;34m(\u001b[0m\u001b[0;36m10\u001b[0m\u001b[0;34m)\u001b[0m\u001b[0;34m)\u001b[0m\u001b[0;34m\u001b[0m\u001b[0;34m\u001b[0m\u001b[0m\n\u001b[0m",
      "\u001b[0;31mTypeError\u001b[0m: can only concatenate str (not \"int\") to str"
     ]
    }
   ],
   "source": [
    "class A:\n",
    "    a = 42\n",
    "    b = list(a + int(i) for i in range(10))"
   ]
  },
  {
   "cell_type": "markdown",
   "metadata": {},
   "source": [
    "This example uses references from this answer by Martijn Pieters, which contains more in depth analysis of this\n",
    "behavior."
   ]
  },
  {
   "cell_type": "markdown",
   "metadata": {},
   "source": [
    "# Section 13.6: Local vs Global Scope\n",
    "__What are local and global scope?__\n",
    "\n",
    "All Python variables which are accessible at some point in code are either in local scope or in global scope.\n",
    "\n",
    "The explanation is that local scope includes all variables defined in the current function and global scope includes\n",
    "variables defined outside of the current function."
   ]
  },
  {
   "cell_type": "code",
   "execution_count": 41,
   "metadata": {},
   "outputs": [],
   "source": [
    "foo = 1     # global\n",
    "\n",
    "def func():\n",
    "    bar = 2 # local\n",
    "    print(foo) # prints variable foo from global scope\n",
    "    print(bar) # prints variable bar from local scope"
   ]
  },
  {
   "cell_type": "markdown",
   "metadata": {},
   "source": [
    "One can inspect which variables are in which scope. Built-in functions locals() and globals() return the whole\n",
    "scopes as dictionaries."
   ]
  },
  {
   "cell_type": "code",
   "execution_count": 44,
   "metadata": {},
   "outputs": [
    {
     "name": "stdout",
     "output_type": "stream",
     "text": [
      "dict_keys(['__name__', '__doc__', '__package__', '__loader__', '__spec__', '__builtin__', '__builtins__', '_ih', '_oh', '_dh', 'In', 'Out', 'get_ipython', 'exit', 'quit', '_', '__', '___', '_i', '_ii', '_iii', '_i1', '_i2', '_i3', 'read_x', 'read_y', '_i4', '_i5', '_i6', '_i7', '_i8', '_i9', '_i10', '_i11', 'read_x_local_fail', '_i12', '_i13', 'change_local_x', '_i14', '_i15', 'change_global_x', '_i16', '_i17', 'foo', '_i18', '_i19', 'b', 'bar', '_i20', '_i21', '_i22', '_i23', '_i24', '_i25', 'A', 'a', '_i26', '_i27', '_i28', '_i29', 'x', '_i30', '_i31', '_i32', '_i33', '_i34', 'Fred', '_i35', '_i36', '_i37', '_i38', '_i39', '_i40', 'func', '_i41', '_i42', '_i43', '_i44'])\n",
      "dict_keys(['bar'])\n"
     ]
    }
   ],
   "source": [
    "foo = 1\n",
    "\n",
    "def func():\n",
    "    bar = 2\n",
    "    print(globals().keys()) # prints all variable names in global scope\n",
    "    print(locals().keys()) # prints all variable names in local scope\n",
    "func()"
   ]
  },
  {
   "cell_type": "markdown",
   "metadata": {},
   "source": [
    "What happens with name clashes?"
   ]
  },
  {
   "cell_type": "code",
   "execution_count": 46,
   "metadata": {},
   "outputs": [],
   "source": [
    "foo = 1\n",
    "\n",
    "def func():\n",
    "    foo = 2\n",
    "\n",
    "    print(foo)   # prints 2\n",
    "    \n",
    "    # global variable foo still exists, unchanged:\n",
    "    print(globals()['foo']) # prints 1\n",
    "    print(locals()['foo']) # prints 2"
   ]
  },
  {
   "cell_type": "markdown",
   "metadata": {},
   "source": [
    "To modify a global variable, use keyword global :"
   ]
  },
  {
   "cell_type": "code",
   "execution_count": 51,
   "metadata": {},
   "outputs": [],
   "source": [
    "foo = 1\n",
    "\n",
    "def func():\n",
    "    global foo\n",
    "    foo = 2 \n",
    "func()"
   ]
  },
  {
   "cell_type": "markdown",
   "metadata": {},
   "source": [
    "__The scope is defined for the whole body of the function!__\n",
    "\n",
    "What it means is that a variable will never be global for a half of the function and local afterwards, or vice-versa."
   ]
  },
  {
   "cell_type": "code",
   "execution_count": 50,
   "metadata": {},
   "outputs": [],
   "source": [
    "foo = 1\n",
    "def func():\n",
    "    print(foo) \n",
    "    foo = 7\n",
    "    print(foo)\n",
    "func()"
   ]
  },
  {
   "cell_type": "markdown",
   "metadata": {},
   "source": [
    "Likewise, the opposite:"
   ]
  },
  {
   "cell_type": "code",
   "execution_count": 54,
   "metadata": {},
   "outputs": [
    {
     "ename": "SyntaxError",
     "evalue": "name 'foo' is used prior to global declaration (<ipython-input-54-100fcc9e38d8>, line 8)",
     "output_type": "error",
     "traceback": [
      "\u001b[0;36m  File \u001b[0;32m\"<ipython-input-54-100fcc9e38d8>\"\u001b[0;36m, line \u001b[0;32m8\u001b[0m\n\u001b[0;31m    global foo\u001b[0m\n\u001b[0m    ^\u001b[0m\n\u001b[0;31mSyntaxError\u001b[0m\u001b[0;31m:\u001b[0m name 'foo' is used prior to global declaration\n"
     ]
    }
   ],
   "source": [
    "foo = 1\n",
    "def func():\n",
    "    foo = 7\n",
    "    \n",
    "    print(foo) # 7\n",
    "    print(globals()['foo'])\n",
    "    \n",
    "    global foo\n",
    "    print(foo)"
   ]
  },
  {
   "cell_type": "markdown",
   "metadata": {},
   "source": [
    "__Functions within functions__\n",
    "\n",
    "There may be many levels of functions nested within functions, but within any one function there is only one local\n",
    "scope for that function and the global scope. There are no intermediate scopes."
   ]
  },
  {
   "cell_type": "code",
   "execution_count": 61,
   "metadata": {},
   "outputs": [],
   "source": [
    "foo = 1\n",
    "def f1():\n",
    "    bar = 1\n",
    "    \n",
    "    def f2():\n",
    "        baz = 2\n",
    "        # here, foo is a global variable, baz is a local variable\n",
    "        # bar is not in either scope\n",
    "        print(locals().keys()) # ['baz']\n",
    "        print('bar' in locals()) # False\n",
    "        print('bar' in globals()) # False\n",
    "    \n",
    "    def f3():\n",
    "        baz = 3\n",
    "        print(bar) # bar from f1 is referenced so it enters local scope of f3 (closure)\n",
    "        print(locals().keys()) # ['bar', 'baz']\n",
    "        print('bar' in locals()) # True\n",
    "        print('bar' in globals()) # False\n",
    "    \n",
    "    def f4():\n",
    "        bar = 4 # a new local bar which hides bar from local scope of f1\n",
    "        baz = 4\n",
    "        print(bar)\n",
    "        print(locals().keys()) # ['bar', 'baz']\n",
    "        print('bar' in locals()) # True\n",
    "        print('bar' in globals())# False\n",
    "        "
   ]
  },
  {
   "cell_type": "markdown",
   "metadata": {},
   "source": [
    "__global vs nonlocal (Python 3 only)__\n",
    "\n",
    "Both these keywords are used to gain write access to variables which are not local to the current functions.\n",
    "\n",
    "The global keyword declares that a name should be treated as a global variable."
   ]
  },
  {
   "cell_type": "code",
   "execution_count": 63,
   "metadata": {},
   "outputs": [],
   "source": [
    "foo = 0\n",
    "# global foo\n",
    "\n",
    "def f1():\n",
    "    foo = 1\n",
    "    # a new foo local in f1\n",
    "    \n",
    "    def f2():\n",
    "        foo = 2\n",
    "        # a new foo local in f2\n",
    "        \n",
    "        def f3():\n",
    "            foo = 3 # a new foo local in f3\n",
    "            print(foo) # 3\n",
    "            foo = 30 # modifies local foo in f3 only\n",
    "        \n",
    "        def f4():\n",
    "            global foo\n",
    "            print(foo) # 0\n",
    "            foo = 100 # modifies global foo"
   ]
  },
  {
   "cell_type": "markdown",
   "metadata": {},
   "source": [
    "On the other hand, nonlocal (see Nonlocal Variables ), available in Python 3, takes a local variable from an\n",
    "enclosing scope into the local scope of current function.\n",
    "\n",
    "__The nonlocal statement causes the listed identifiers to refer to previously bound variables in the nearest\n",
    "enclosing scope excluding globals.__"
   ]
  },
  {
   "cell_type": "code",
   "execution_count": 65,
   "metadata": {},
   "outputs": [],
   "source": [
    "def f1():\n",
    "    \n",
    "    def f2():\n",
    "        \n",
    "        foo = 2\n",
    "        # a new foo local in f2\n",
    "        \n",
    "        def f3():\n",
    "            nonlocal foo # foo from f2, which is the nearest enclosing scope\n",
    "            print(foo) # 2\n",
    "            foo = 20 # modifies foo from f2!"
   ]
  },
  {
   "cell_type": "markdown",
   "metadata": {},
   "source": [
    "# Section 13.7: Binding Occurrence"
   ]
  },
  {
   "cell_type": "raw",
   "metadata": {},
   "source": [
    "x = 5\n",
    "x += 7\n",
    "for x in iterable: pass"
   ]
  },
  {
   "cell_type": "markdown",
   "metadata": {},
   "source": [
    "Each of the above statements is a binding occurrence - x become bound to the object denoted by 5 . If this statement\n",
    "appears inside a function, then x will be function-local by default. See the \"Syntax\" section for a list of binding\n",
    "statements."
   ]
  },
  {
   "cell_type": "markdown",
   "metadata": {},
   "source": [
    "# End of chapter 13"
   ]
  }
 ],
 "metadata": {
  "kernelspec": {
   "display_name": "Python 3",
   "language": "python",
   "name": "python3"
  },
  "language_info": {
   "codemirror_mode": {
    "name": "ipython",
    "version": 3
   },
   "file_extension": ".py",
   "mimetype": "text/x-python",
   "name": "python",
   "nbconvert_exporter": "python",
   "pygments_lexer": "ipython3",
   "version": "3.8.5"
  }
 },
 "nbformat": 4,
 "nbformat_minor": 4
}
